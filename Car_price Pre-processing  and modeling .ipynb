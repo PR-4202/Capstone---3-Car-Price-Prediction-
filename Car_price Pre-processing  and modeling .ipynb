{
 "cells": [
  {
   "cell_type": "markdown",
   "id": "1a51d45f",
   "metadata": {},
   "source": [
    "#                           Used Car Price Prediction"
   ]
  },
  {
   "cell_type": "markdown",
   "id": "5d16c228",
   "metadata": {},
   "source": [
    "### DATASET INFORMATION :-"
   ]
  },
  {
   "cell_type": "markdown",
   "id": "2a523066",
   "metadata": {},
   "source": [
    "\n",
    "Used Car Price Prediction Dataset is a comprehensive collection of automotive information extracted from the popular automotive marketplace website, https://www.cars.com. This dataset comprises 4,009 data points, each representing a unique vehicle listing, and includes nine distinct features providing valuable insights into the world of automobiles."
   ]
  },
  {
   "cell_type": "markdown",
   "id": "c8c6e7eb",
   "metadata": {},
   "source": [
    "###   This dataset is available on:"
   ]
  },
  {
   "cell_type": "markdown",
   "id": "ec281e24",
   "metadata": {},
   "source": [
    "https://www.kaggle.com/datasets/taeefnajib/used-car-price-prediction-dataset/data"
   ]
  },
  {
   "cell_type": "markdown",
   "id": "c1891e57",
   "metadata": {},
   "source": [
    "#### PROBLEM IDENTIFICATION :-"
   ]
  },
  {
   "cell_type": "markdown",
   "id": "71fa7c38",
   "metadata": {},
   "source": [
    "a) Design a predictive model with the use of machine learning algorithms to predict price of used car.\n",
    "\n",
    "b) Design a predictive model with the use of machine learning algorithms to predict what factor is most populer to buy a used car."
   ]
  },
  {
   "cell_type": "markdown",
   "id": "626b6a4b",
   "metadata": {},
   "source": [
    "#### TARGET VARIABLE :-"
   ]
  },
  {
   "cell_type": "markdown",
   "id": "dea4dc56",
   "metadata": {},
   "source": [
    "-  prices"
   ]
  },
  {
   "cell_type": "markdown",
   "id": "549aa54d",
   "metadata": {},
   "source": [
    "#### LABELS / ATTRIBUTE INFORMATION :-"
   ]
  },
  {
   "cell_type": "markdown",
   "id": "62be19f1",
   "metadata": {},
   "source": [
    "-  Brand & Model: Identify the brand or company name along with the specific model of each vehicle.\n",
    "\n",
    "-  Model Year: Discover the manufacturing year of the vehicles, crucial for assessing depreciation and technology advancements.\n",
    "\n",
    "-  Mileage: Obtain the mileage of each vehicle, a key indicator of wear and tear and potential maintenance requirements.\n",
    "\n",
    "-  Fuel Type: Learn about the type of fuel the vehicles run on, whether it's gasoline, diesel, electric, or hybrid.\n",
    "\n",
    "-  Engine Type: Understand the engine specifications, shedding light on performance and efficiency.\n",
    "\n",
    "-  Transmission: Determine the transmission type, whether automatic, manual, or another variant.\n",
    "\n",
    "-  Exterior & Interior Colors: Explore the aesthetic aspects of the vehicles, including exterior and interior color options.\n",
    "\n",
    "-  Accident History: Discover whether a vehicle has a prior history of accidents or damage, crucial for informed decision-making.\n",
    "\n",
    "-  Clean Title: Evaluate the availability of a clean title, which can impact the vehicle's resale value and legal status.\n",
    "\n",
    "-  Price: Access the listed prices for each vehicle, aiding in price comparison and budgeting."
   ]
  },
  {
   "cell_type": "markdown",
   "id": "3c37a76a",
   "metadata": {},
   "source": [
    "#### TOOLS USED "
   ]
  },
  {
   "cell_type": "markdown",
   "id": "5cc8b302",
   "metadata": {},
   "source": [
    "The following tools are going to be used for data analysis-\n",
    "\n",
    "-  Pandas\n",
    "-  Numpy\n",
    "-  Matplotlib\n",
    "-  Seaborn\n",
    "-  scipy.stats\n",
    "-  Scikit-learn"
   ]
  },
  {
   "cell_type": "markdown",
   "id": "382b5c10",
   "metadata": {},
   "source": [
    "#### IMPORTING NECESSARY LIBRARIES"
   ]
  },
  {
   "cell_type": "code",
   "execution_count": 1,
   "id": "6053a381",
   "metadata": {},
   "outputs": [],
   "source": [
    "#importing the libraries\n",
    "import pandas as pd\n",
    "import numpy as np\n",
    "import matplotlib.pyplot as plt\n",
    "import seaborn as sns\n",
    "sns.set_theme(color_codes=True)\n",
    "\n",
    "import warnings \n",
    "warnings.filterwarnings('ignore')"
   ]
  },
  {
   "cell_type": "markdown",
   "id": "0a9ba0f6",
   "metadata": {},
   "source": [
    "#### LOAD THE DATASET "
   ]
  },
  {
   "cell_type": "code",
   "execution_count": 2,
   "id": "52cbc0da",
   "metadata": {},
   "outputs": [
    {
     "data": {
      "text/html": [
       "<div>\n",
       "<style scoped>\n",
       "    .dataframe tbody tr th:only-of-type {\n",
       "        vertical-align: middle;\n",
       "    }\n",
       "\n",
       "    .dataframe tbody tr th {\n",
       "        vertical-align: top;\n",
       "    }\n",
       "\n",
       "    .dataframe thead th {\n",
       "        text-align: right;\n",
       "    }\n",
       "</style>\n",
       "<table border=\"1\" class=\"dataframe\">\n",
       "  <thead>\n",
       "    <tr style=\"text-align: right;\">\n",
       "      <th></th>\n",
       "      <th>brand</th>\n",
       "      <th>model</th>\n",
       "      <th>model_year</th>\n",
       "      <th>fuel_type</th>\n",
       "      <th>engine</th>\n",
       "      <th>transmission</th>\n",
       "      <th>ext_col</th>\n",
       "      <th>int_col</th>\n",
       "      <th>accident</th>\n",
       "      <th>clean_title</th>\n",
       "      <th>prices</th>\n",
       "      <th>milages</th>\n",
       "    </tr>\n",
       "  </thead>\n",
       "  <tbody>\n",
       "    <tr>\n",
       "      <th>0</th>\n",
       "      <td>Ford</td>\n",
       "      <td>Utility Police Interceptor Base</td>\n",
       "      <td>2013</td>\n",
       "      <td>E85 Flex Fuel</td>\n",
       "      <td>300.0HP 3.7L V6 Cylinder Engine Flex Fuel Capa...</td>\n",
       "      <td>6-Speed A/T</td>\n",
       "      <td>Black</td>\n",
       "      <td>Black</td>\n",
       "      <td>At least 1 accident or damage reported</td>\n",
       "      <td>Yes</td>\n",
       "      <td>10300</td>\n",
       "      <td>51000</td>\n",
       "    </tr>\n",
       "    <tr>\n",
       "      <th>1</th>\n",
       "      <td>Hyundai</td>\n",
       "      <td>Palisade SEL</td>\n",
       "      <td>2021</td>\n",
       "      <td>Gasoline</td>\n",
       "      <td>3.8L V6 24V GDI DOHC</td>\n",
       "      <td>8-Speed Automatic</td>\n",
       "      <td>Moonlight Cloud</td>\n",
       "      <td>Gray</td>\n",
       "      <td>At least 1 accident or damage reported</td>\n",
       "      <td>Yes</td>\n",
       "      <td>38005</td>\n",
       "      <td>34742</td>\n",
       "    </tr>\n",
       "    <tr>\n",
       "      <th>2</th>\n",
       "      <td>Lexus</td>\n",
       "      <td>RX 350 RX 350</td>\n",
       "      <td>2022</td>\n",
       "      <td>Gasoline</td>\n",
       "      <td>3.5 Liter DOHC</td>\n",
       "      <td>Automatic</td>\n",
       "      <td>Blue</td>\n",
       "      <td>Black</td>\n",
       "      <td>None reported</td>\n",
       "      <td>NaN</td>\n",
       "      <td>54598</td>\n",
       "      <td>22372</td>\n",
       "    </tr>\n",
       "    <tr>\n",
       "      <th>3</th>\n",
       "      <td>INFINITI</td>\n",
       "      <td>Q50 Hybrid Sport</td>\n",
       "      <td>2015</td>\n",
       "      <td>Hybrid</td>\n",
       "      <td>354.0HP 3.5L V6 Cylinder Engine Gas/Electric H...</td>\n",
       "      <td>7-Speed A/T</td>\n",
       "      <td>Black</td>\n",
       "      <td>Black</td>\n",
       "      <td>None reported</td>\n",
       "      <td>Yes</td>\n",
       "      <td>15500</td>\n",
       "      <td>88900</td>\n",
       "    </tr>\n",
       "    <tr>\n",
       "      <th>4</th>\n",
       "      <td>Audi</td>\n",
       "      <td>Q3 45 S line Premium Plus</td>\n",
       "      <td>2021</td>\n",
       "      <td>Gasoline</td>\n",
       "      <td>2.0L I4 16V GDI DOHC Turbo</td>\n",
       "      <td>8-Speed Automatic</td>\n",
       "      <td>Glacier White Metallic</td>\n",
       "      <td>Black</td>\n",
       "      <td>None reported</td>\n",
       "      <td>NaN</td>\n",
       "      <td>34999</td>\n",
       "      <td>9835</td>\n",
       "    </tr>\n",
       "  </tbody>\n",
       "</table>\n",
       "</div>"
      ],
      "text/plain": [
       "      brand                            model  model_year      fuel_type  \\\n",
       "0      Ford  Utility Police Interceptor Base        2013  E85 Flex Fuel   \n",
       "1   Hyundai                     Palisade SEL        2021       Gasoline   \n",
       "2     Lexus                    RX 350 RX 350        2022       Gasoline   \n",
       "3  INFINITI                 Q50 Hybrid Sport        2015         Hybrid   \n",
       "4      Audi        Q3 45 S line Premium Plus        2021       Gasoline   \n",
       "\n",
       "                                              engine       transmission  \\\n",
       "0  300.0HP 3.7L V6 Cylinder Engine Flex Fuel Capa...        6-Speed A/T   \n",
       "1                               3.8L V6 24V GDI DOHC  8-Speed Automatic   \n",
       "2                                     3.5 Liter DOHC          Automatic   \n",
       "3  354.0HP 3.5L V6 Cylinder Engine Gas/Electric H...        7-Speed A/T   \n",
       "4                         2.0L I4 16V GDI DOHC Turbo  8-Speed Automatic   \n",
       "\n",
       "                  ext_col int_col                                accident  \\\n",
       "0                   Black   Black  At least 1 accident or damage reported   \n",
       "1         Moonlight Cloud    Gray  At least 1 accident or damage reported   \n",
       "2                    Blue   Black                           None reported   \n",
       "3                   Black   Black                           None reported   \n",
       "4  Glacier White Metallic   Black                           None reported   \n",
       "\n",
       "  clean_title  prices  milages  \n",
       "0         Yes   10300    51000  \n",
       "1         Yes   38005    34742  \n",
       "2         NaN   54598    22372  \n",
       "3         Yes   15500    88900  \n",
       "4         NaN   34999     9835  "
      ]
     },
     "execution_count": 2,
     "metadata": {},
     "output_type": "execute_result"
    }
   ],
   "source": [
    "import pandas as pd\n",
    "\n",
    "car_price= pd.read_pickle(r'Pre-processModeling car_cap.pkl')\n",
    "car_price.head()"
   ]
  },
  {
   "cell_type": "markdown",
   "id": "81264ce9",
   "metadata": {},
   "source": [
    "we have most of the data objective type except milages, model_year and our target price."
   ]
  },
  {
   "cell_type": "markdown",
   "id": "825f9c09",
   "metadata": {},
   "source": [
    "#### DATA EXPLORATION "
   ]
  },
  {
   "cell_type": "code",
   "execution_count": 3,
   "id": "25be29f6",
   "metadata": {},
   "outputs": [
    {
     "name": "stdout",
     "output_type": "stream",
     "text": [
      "Number of rows in the given dataset: 4009\n",
      "Number of columns in the given dataset: 12\n"
     ]
    }
   ],
   "source": [
    "# Checking the shape of the dataset-\n",
    "\n",
    "print(\"Number of rows in the given dataset:\",car_price.shape[0])\n",
    "\n",
    "print(\"Number of columns in the given dataset:\",car_price.shape[1])"
   ]
  },
  {
   "cell_type": "code",
   "execution_count": 4,
   "id": "274ecc41",
   "metadata": {},
   "outputs": [
    {
     "data": {
      "text/plain": [
       "Index(['brand', 'model', 'model_year', 'fuel_type', 'engine', 'transmission',\n",
       "       'ext_col', 'int_col', 'accident', 'clean_title', 'prices', 'milages'],\n",
       "      dtype='object')"
      ]
     },
     "execution_count": 4,
     "metadata": {},
     "output_type": "execute_result"
    }
   ],
   "source": [
    "# checking the names of all the columns \n",
    "\n",
    "car_price.columns"
   ]
  },
  {
   "cell_type": "markdown",
   "id": "e7ee715b",
   "metadata": {},
   "source": [
    " These are the list of the 12 columns names present in the dataset."
   ]
  },
  {
   "cell_type": "code",
   "execution_count": 5,
   "id": "cabf98a3",
   "metadata": {},
   "outputs": [
    {
     "data": {
      "text/plain": [
       "brand           object\n",
       "model           object\n",
       "model_year       int64\n",
       "fuel_type       object\n",
       "engine          object\n",
       "transmission    object\n",
       "ext_col         object\n",
       "int_col         object\n",
       "accident        object\n",
       "clean_title     object\n",
       "prices           int64\n",
       "milages          int64\n",
       "dtype: object"
      ]
     },
     "execution_count": 5,
     "metadata": {},
     "output_type": "execute_result"
    }
   ],
   "source": [
    "# checking the datatypes of all the columns \n",
    "\n",
    "car_price.dtypes"
   ]
  },
  {
   "cell_type": "code",
   "execution_count": 6,
   "id": "aa376a04",
   "metadata": {},
   "outputs": [
    {
     "name": "stdout",
     "output_type": "stream",
     "text": [
      "<class 'pandas.core.frame.DataFrame'>\n",
      "RangeIndex: 4009 entries, 0 to 4008\n",
      "Data columns (total 12 columns):\n",
      " #   Column        Non-Null Count  Dtype \n",
      "---  ------        --------------  ----- \n",
      " 0   brand         4009 non-null   object\n",
      " 1   model         4009 non-null   object\n",
      " 2   model_year    4009 non-null   int64 \n",
      " 3   fuel_type     3839 non-null   object\n",
      " 4   engine        4009 non-null   object\n",
      " 5   transmission  4009 non-null   object\n",
      " 6   ext_col       4009 non-null   object\n",
      " 7   int_col       4009 non-null   object\n",
      " 8   accident      3896 non-null   object\n",
      " 9   clean_title   3413 non-null   object\n",
      " 10  prices        4009 non-null   int64 \n",
      " 11  milages       4009 non-null   int64 \n",
      "dtypes: int64(3), object(9)\n",
      "memory usage: 376.0+ KB\n"
     ]
    }
   ],
   "source": [
    "# Checking the information present in dataset\n",
    "\n",
    "car_price.info()"
   ]
  },
  {
   "cell_type": "markdown",
   "id": "66fb8e27",
   "metadata": {},
   "source": [
    "-  fuel_type,accident and clean_title have null values other than this there is no null value present"
   ]
  },
  {
   "cell_type": "markdown",
   "id": "0f67a18a",
   "metadata": {},
   "source": [
    "#### CHECKING MISSING VALUES IN OUR DATASET"
   ]
  },
  {
   "cell_type": "code",
   "execution_count": 7,
   "id": "ee75930d",
   "metadata": {},
   "outputs": [
    {
     "name": "stdout",
     "output_type": "stream",
     "text": [
      "brand             0\n",
      "model             0\n",
      "model_year        0\n",
      "fuel_type       170\n",
      "engine            0\n",
      "transmission      0\n",
      "ext_col           0\n",
      "int_col           0\n",
      "accident        113\n",
      "clean_title     596\n",
      "prices            0\n",
      "milages           0\n",
      "dtype: int64\n"
     ]
    },
    {
     "data": {
      "image/png": "[encoded data removed]",
      "text/plain": [
       "<Figure size 1200x1000 with 2 Axes>"
      ]
     },
     "metadata": {},
     "output_type": "display_data"
    }
   ],
   "source": [
    "plt.figure(figsize=[12,10])\n",
    "sns.heatmap(car_price.isnull())\n",
    "print(car_price.isnull().sum())"
   ]
  },
  {
   "cell_type": "code",
   "execution_count": 8,
   "id": "0845de9a",
   "metadata": {},
   "outputs": [],
   "source": [
    "#Drop the rows with null values in clean_title and accident column\n",
    "car_price.dropna(subset = ['clean_title', 'accident', 'fuel_type'], axis = 0, inplace = True)"
   ]
  },
  {
   "cell_type": "code",
   "execution_count": 9,
   "id": "3c1cccba",
   "metadata": {},
   "outputs": [],
   "source": [
    "#drop clean_title column , accident column \n",
    "car_price.drop(['clean_title', 'accident','fuel_type'], axis = 1, inplace = True)"
   ]
  },
  {
   "cell_type": "code",
   "execution_count": 10,
   "id": "a8c98429",
   "metadata": {},
   "outputs": [
    {
     "data": {
      "text/plain": [
       "(3269, 9)"
      ]
     },
     "execution_count": 10,
     "metadata": {},
     "output_type": "execute_result"
    }
   ],
   "source": [
    "car_price.shape"
   ]
  },
  {
   "cell_type": "code",
   "execution_count": 11,
   "id": "8c4c7e03",
   "metadata": {},
   "outputs": [
    {
     "data": {
      "text/html": [
       "<div>\n",
       "<style scoped>\n",
       "    .dataframe tbody tr th:only-of-type {\n",
       "        vertical-align: middle;\n",
       "    }\n",
       "\n",
       "    .dataframe tbody tr th {\n",
       "        vertical-align: top;\n",
       "    }\n",
       "\n",
       "    .dataframe thead th {\n",
       "        text-align: right;\n",
       "    }\n",
       "</style>\n",
       "<table border=\"1\" class=\"dataframe\">\n",
       "  <thead>\n",
       "    <tr style=\"text-align: right;\">\n",
       "      <th></th>\n",
       "      <th>brand</th>\n",
       "      <th>model</th>\n",
       "      <th>model_year</th>\n",
       "      <th>engine</th>\n",
       "      <th>transmission</th>\n",
       "      <th>ext_col</th>\n",
       "      <th>int_col</th>\n",
       "      <th>prices</th>\n",
       "      <th>milages</th>\n",
       "    </tr>\n",
       "  </thead>\n",
       "  <tbody>\n",
       "    <tr>\n",
       "      <th>0</th>\n",
       "      <td>Ford</td>\n",
       "      <td>Utility Police Interceptor Base</td>\n",
       "      <td>2013</td>\n",
       "      <td>300.0HP 3.7L V6 Cylinder Engine Flex Fuel Capa...</td>\n",
       "      <td>6-Speed A/T</td>\n",
       "      <td>Black</td>\n",
       "      <td>Black</td>\n",
       "      <td>10300</td>\n",
       "      <td>51000</td>\n",
       "    </tr>\n",
       "  </tbody>\n",
       "</table>\n",
       "</div>"
      ],
      "text/plain": [
       "  brand                            model  model_year  \\\n",
       "0  Ford  Utility Police Interceptor Base        2013   \n",
       "\n",
       "                                              engine transmission ext_col  \\\n",
       "0  300.0HP 3.7L V6 Cylinder Engine Flex Fuel Capa...  6-Speed A/T   Black   \n",
       "\n",
       "  int_col  prices  milages  \n",
       "0   Black   10300    51000  "
      ]
     },
     "execution_count": 11,
     "metadata": {},
     "output_type": "execute_result"
    }
   ],
   "source": [
    "car_price.head(1)"
   ]
  },
  {
   "cell_type": "code",
   "execution_count": 12,
   "id": "bb2ae556",
   "metadata": {},
   "outputs": [],
   "source": [
    "for i in car_price.columns:\n",
    "    if car_price[i].dtypes == 'object':\n",
    "        car_price[i].fillna(car_price[i].mode()[0],inplace = True)    #imputing mode value for missing values in categorical variables.\n",
    "    elif car_price[i].dtypes == 'int':\n",
    "        car_price[i].fillna(np.mean(car_price[i]),inplace = True)    #imputing mean value for missing values in numerical variables.\n",
    "      "
   ]
  },
  {
   "cell_type": "code",
   "execution_count": 13,
   "id": "8c3f5806",
   "metadata": {},
   "outputs": [
    {
     "data": {
      "text/plain": [
       "brand           0\n",
       "model           0\n",
       "model_year      0\n",
       "engine          0\n",
       "transmission    0\n",
       "ext_col         0\n",
       "int_col         0\n",
       "prices          0\n",
       "milages         0\n",
       "dtype: int64"
      ]
     },
     "execution_count": 13,
     "metadata": {},
     "output_type": "execute_result"
    }
   ],
   "source": [
    "car_price.isnull().sum()"
   ]
  },
  {
   "cell_type": "markdown",
   "id": "95f702e8",
   "metadata": {},
   "source": [
    "we have manage our missing values with mode and mean and we don't have any nulll value present in our dataset."
   ]
  },
  {
   "cell_type": "code",
   "execution_count": 14,
   "id": "bb91b7e6",
   "metadata": {},
   "outputs": [
    {
     "data": {
      "text/html": [
       "<div>\n",
       "<style scoped>\n",
       "    .dataframe tbody tr th:only-of-type {\n",
       "        vertical-align: middle;\n",
       "    }\n",
       "\n",
       "    .dataframe tbody tr th {\n",
       "        vertical-align: top;\n",
       "    }\n",
       "\n",
       "    .dataframe thead th {\n",
       "        text-align: right;\n",
       "    }\n",
       "</style>\n",
       "<table border=\"1\" class=\"dataframe\">\n",
       "  <thead>\n",
       "    <tr style=\"text-align: right;\">\n",
       "      <th></th>\n",
       "      <th>count</th>\n",
       "      <th>mean</th>\n",
       "      <th>std</th>\n",
       "      <th>min</th>\n",
       "      <th>25%</th>\n",
       "      <th>50%</th>\n",
       "      <th>75%</th>\n",
       "      <th>max</th>\n",
       "    </tr>\n",
       "  </thead>\n",
       "  <tbody>\n",
       "    <tr>\n",
       "      <th>model_year</th>\n",
       "      <td>3269.0</td>\n",
       "      <td>2014.601407</td>\n",
       "      <td>6.152181</td>\n",
       "      <td>1974.0</td>\n",
       "      <td>2011.0</td>\n",
       "      <td>2016.0</td>\n",
       "      <td>2019.0</td>\n",
       "      <td>2024.0</td>\n",
       "    </tr>\n",
       "    <tr>\n",
       "      <th>prices</th>\n",
       "      <td>3269.0</td>\n",
       "      <td>41241.126338</td>\n",
       "      <td>83046.041220</td>\n",
       "      <td>2000.0</td>\n",
       "      <td>15500.0</td>\n",
       "      <td>28000.0</td>\n",
       "      <td>46500.0</td>\n",
       "      <td>2954083.0</td>\n",
       "    </tr>\n",
       "    <tr>\n",
       "      <th>milages</th>\n",
       "      <td>3269.0</td>\n",
       "      <td>72126.951973</td>\n",
       "      <td>53387.413623</td>\n",
       "      <td>100.0</td>\n",
       "      <td>30450.0</td>\n",
       "      <td>62930.0</td>\n",
       "      <td>102750.0</td>\n",
       "      <td>405000.0</td>\n",
       "    </tr>\n",
       "  </tbody>\n",
       "</table>\n",
       "</div>"
      ],
      "text/plain": [
       "             count          mean           std     min      25%      50%  \\\n",
       "model_year  3269.0   2014.601407      6.152181  1974.0   2011.0   2016.0   \n",
       "prices      3269.0  41241.126338  83046.041220  2000.0  15500.0  28000.0   \n",
       "milages     3269.0  72126.951973  53387.413623   100.0  30450.0  62930.0   \n",
       "\n",
       "                 75%        max  \n",
       "model_year    2019.0     2024.0  \n",
       "prices       46500.0  2954083.0  \n",
       "milages     102750.0   405000.0  "
      ]
     },
     "execution_count": 14,
     "metadata": {},
     "output_type": "execute_result"
    }
   ],
   "source": [
    "car_price.describe().T"
   ]
  },
  {
   "cell_type": "markdown",
   "id": "276dc89a",
   "metadata": {},
   "source": [
    "-  we have three numeric data and count is 4009 that means data have no null values present.\n",
    "-  max price is 2954083.0 and min is 2000\n",
    "-  The mean and median value have some variations that mean our data is right skewed.\n",
    "-  mean and max also have some variable that means it has some outliers present. "
   ]
  },
  {
   "cell_type": "markdown",
   "id": "8ae38bdf",
   "metadata": {},
   "source": [
    "#### ENCODING CATEGORICAL DATA"
   ]
  },
  {
   "cell_type": "code",
   "execution_count": 15,
   "id": "bf79df7e",
   "metadata": {},
   "outputs": [],
   "source": [
    "from sklearn.preprocessing import LabelEncoder\n",
    "\n",
    "le = LabelEncoder() "
   ]
  },
  {
   "cell_type": "code",
   "execution_count": 16,
   "id": "7016c72f",
   "metadata": {},
   "outputs": [
    {
     "name": "stdout",
     "output_type": "stream",
     "text": [
      "brand:['Ford' 'Hyundai' 'INFINITI' 'Audi' 'BMW' 'Lexus' 'Aston' 'Toyota'\n",
      " 'Lincoln' 'Land' 'Mercedes-Benz' 'Dodge' 'Nissan' 'Jaguar' 'Chevrolet'\n",
      " 'Kia' 'Jeep' 'Bentley' 'MINI' 'Porsche' 'Hummer' 'Chrysler' 'Acura'\n",
      " 'Volvo' 'Cadillac' 'Maserati' 'Genesis' 'Volkswagen' 'GMC' 'RAM' 'Subaru'\n",
      " 'Alfa' 'Ferrari' 'Scion' 'Mitsubishi' 'Mazda' 'Saturn' 'Honda' 'Bugatti'\n",
      " 'Lamborghini' 'Rolls-Royce' 'McLaren' 'Buick' 'Lotus' 'Pontiac' 'FIAT'\n",
      " 'Saab' 'Mercury' 'Plymouth' 'smart' 'Maybach' 'Suzuki']\n",
      "model:['Utility Police Interceptor Base' 'Palisade SEL' 'Q50 Hybrid Sport' ...\n",
      " 'CT 200h Base' 'Impala 2LZ' 'Continental GT Speed']\n",
      "engine:['300.0HP 3.7L V6 Cylinder Engine Flex Fuel Capability'\n",
      " '3.8L V6 24V GDI DOHC'\n",
      " '354.0HP 3.5L V6 Cylinder Engine Gas/Electric Hybrid'\n",
      " '292.0HP 2.0L 4 Cylinder Engine Gasoline Fuel'\n",
      " '282.0HP 4.4L 8 Cylinder Engine Gasoline Fuel'\n",
      " '311.0HP 3.5L V6 Cylinder Engine Gasoline Fuel'\n",
      " '715.0HP 5.2L 12 Cylinder Engine Gasoline Fuel'\n",
      " '382.0HP 3.0L Straight 6 Cylinder Engine Gasoline Fuel'\n",
      " '400.0HP 3.0L V6 Cylinder Engine Gasoline Fuel'\n",
      " '375.0HP 5.0L 8 Cylinder Engine Gasoline Fuel'\n",
      " '2.0L I4 16V GDI DOHC Turbo'\n",
      " '305.0HP 3.6L V6 Cylinder Engine Gasoline Fuel'\n",
      " '287.0HP 3.5L V6 Cylinder Engine Gasoline Fuel'\n",
      " '550.0HP 5.0L 8 Cylinder Engine Gasoline Fuel'\n",
      " '120.0HP 2.2L 4 Cylinder Engine Flex Fuel Capability'\n",
      " '3.5L V6 24V PDI DOHC Twin Turbo'\n",
      " '355.0HP 5.3L 8 Cylinder Engine Gasoline Fuel'\n",
      " '276.0HP 2.0L 4 Cylinder Engine Gasoline Fuel'\n",
      " '382.0HP 2.0L 4 Cylinder Engine Gasoline Fuel'\n",
      " '445.0HP 4.4L 8 Cylinder Engine Gasoline Fuel'\n",
      " '2.0L I4 16V GDI DOHC Turbo Flexible Fuel'\n",
      " '362.0HP 3.0L V6 Cylinder Engine Gasoline Fuel'\n",
      " '345.0HP 5.7L 8 Cylinder Engine Gasoline Fuel'\n",
      " '276.0HP 3.5L V6 Cylinder Engine Gasoline Fuel'\n",
      " '383.0HP 5.7L 8 Cylinder Engine Gasoline Fuel'\n",
      " '180.0HP 2.4L 4 Cylinder Engine Gasoline Fuel'\n",
      " '211.0HP 2.0L 4 Cylinder Engine Gasoline Fuel'\n",
      " '173.0HP 2.7L V6 Cylinder Engine Gasoline Fuel'\n",
      " '240.0HP 2.0L 4 Cylinder Engine Gasoline Fuel'\n",
      " '552.0HP 6.0L 12 Cylinder Engine Flex Fuel Capability'\n",
      " '3.0L V6 Cylinder Engine Diesel Fuel'\n",
      " '310.0HP 3.0L V6 Cylinder Engine Gasoline Fuel' '5.3L V8 16V GDI OHV'\n",
      " '228.0HP 2.0L 4 Cylinder Engine Gasoline Fuel'\n",
      " '268.0HP 3.5L V6 Cylinder Engine Gasoline Fuel'\n",
      " '300.0HP 3.6L V6 Cylinder Engine Gasoline Fuel'\n",
      " '503.0HP 4.0L 8 Cylinder Engine Gasoline Fuel'\n",
      " '325.0HP 6.0L 8 Cylinder Engine Gasoline Fuel'\n",
      " '400.0HP 3.8L Flat 6 Cylinder Engine Gasoline Fuel'\n",
      " '208.0HP 2.0L 4 Cylinder Engine Gasoline Fuel'\n",
      " '250.0HP 3.5L V6 Cylinder Engine Gasoline Fuel'\n",
      " '200.0HP 2.0L 4 Cylinder Engine Gasoline Fuel'\n",
      " '420.0HP 5.0L 8 Cylinder Engine Gasoline Fuel'\n",
      " '300.0HP 3.7L V6 Cylinder Engine Gasoline Fuel'\n",
      " '400.0HP 2.0L 4 Cylinder Engine Plug-In Electric/Gas'\n",
      " '302.0HP 3.5L V6 Cylinder Engine Gasoline Fuel'\n",
      " '306.0HP 3.5L V6 Cylinder Engine Gasoline Fuel'\n",
      " '382.0HP 3.0L Straight 6 Cylinder Engine Gasoline/Mild Electric Hybrid'\n",
      " '237.0HP 2.0L 4 Cylinder Engine Gasoline Fuel'\n",
      " '248.0HP 2.0L 4 Cylinder Engine Gasoline Fuel'\n",
      " '425.0HP 6.1L 8 Cylinder Engine Gasoline Fuel'\n",
      " '582.0HP 6.0L 12 Cylinder Engine Gasoline Fuel'\n",
      " '425.0HP 3.0L Straight 6 Cylinder Engine Gasoline Fuel'\n",
      " '300.0HP 1.6L 3 Cylinder Engine Gasoline Fuel'\n",
      " '444.0HP 2.9L V6 Cylinder Engine Gasoline Fuel'\n",
      " '335.0HP 3.0L V6 Cylinder Engine Gasoline Fuel'\n",
      " '424.0HP 3.0L V6 Cylinder Engine Gasoline Fuel'\n",
      " '340.0HP 3.0L V6 Cylinder Engine Gasoline Fuel'\n",
      " '225.0HP 3.3L V6 Cylinder Engine Gasoline Fuel'\n",
      " '340.0HP 3.4L Flat 6 Cylinder Engine Gasoline Fuel'\n",
      " '365.0HP 3.3L V6 Cylinder Engine Gasoline Fuel'\n",
      " '315.0HP 2.0L 4 Cylinder Engine Gasoline Fuel'\n",
      " '199.0HP 2.4L 4 Cylinder Engine Gas/Electric Hybrid'\n",
      " '560.0HP 4.0L 8 Cylinder Engine Gasoline Fuel'\n",
      " '326.0HP 3.0L Straight 6 Cylinder Engine Gasoline Fuel'\n",
      " '362.0HP 3.0L Straight 6 Cylinder Engine Gasoline/Mild Electric Hybrid'\n",
      " '560.0HP 4.4L 8 Cylinder Engine Gasoline Fuel'\n",
      " '1.6L I4 16V GDI DOHC Hybrid' '5.2L V12 48V GDI DOHC Twin Turbo'\n",
      " '241.0HP 2.0L 4 Cylinder Engine Gasoline Fuel'\n",
      " '300.0HP 3.0L Straight 6 Cylinder Engine Gasoline Fuel'\n",
      " '215.0HP 2.5L Straight 6 Cylinder Engine Gasoline Fuel'\n",
      " '130.0HP 1.8L 4 Cylinder Engine Gasoline Fuel'\n",
      " '288.0HP 3.6L V6 Cylinder Engine Gasoline Fuel'\n",
      " '369.0HP 1.5L 3 Cylinder Engine Plug-In Electric/Gas'\n",
      " '200.0HP 2.5L 4 Cylinder Engine Gas/Electric Hybrid'\n",
      " '3.0L V6 24V GDI DOHC Twin Turbo'\n",
      " '195.0HP 4.3L V6 Cylinder Engine Gasoline Fuel'\n",
      " '285.0HP 3.6L V6 Cylinder Engine Gasoline Fuel'\n",
      " '400.0HP 6.75L 8 Cylinder Engine Gasoline Fuel'\n",
      " '550.0HP 5.5L 8 Cylinder Engine Gasoline Fuel' '3.6L V6 24V MPFI DOHC'\n",
      " '485.0HP 3.8L V6 Cylinder Engine Gasoline Fuel'\n",
      " '132.0HP 1.8L 4 Cylinder Engine Gasoline Fuel'\n",
      " '416.0HP 3.0L V6 Cylinder Engine Plug-In Electric/Gas'\n",
      " '5.3L V8 16V MPFI OHV Flexible Fuel'\n",
      " '360.0HP 3.5L V6 Cylinder Engine Gas/Electric Hybrid' '–'\n",
      " '2.5L H4 16V GDI DOHC' '469.0HP 4.0L 8 Cylinder Engine Gasoline Fuel'\n",
      " '300.0HP 4.4L 8 Cylinder Engine Gasoline Fuel'\n",
      " '169.0HP 2.5L 4 Cylinder Engine Gasoline Fuel'\n",
      " '330.0HP 5.7L 8 Cylinder Engine Gasoline Fuel'\n",
      " '400.0HP 5.6L 8 Cylinder Engine Gasoline Fuel'\n",
      " '275.0HP 2.7L Flat 6 Cylinder Engine Gasoline Fuel'\n",
      " '303.0HP 5.3L 8 Cylinder Engine Gasoline Fuel'\n",
      " '240.0HP 3.8L V6 Cylinder Engine Gasoline Fuel'\n",
      " '450.0HP 4.0L 8 Cylinder Engine Gasoline Fuel'\n",
      " '2.0L I4 16V GDI SOHC Turbo'\n",
      " '651.0HP 6.3L 12 Cylinder Engine Gasoline Fuel'\n",
      " '255.0HP 5.4L 8 Cylinder Engine Flex Fuel Capability'\n",
      " '182.0HP 2.5L 4 Cylinder Engine Gasoline Fuel'\n",
      " '236.0HP 4.0L V6 Cylinder Engine Gasoline Fuel'\n",
      " '370.0HP 6.7L Straight 6 Cylinder Engine Diesel Fuel'\n",
      " '2.4L I4 16V GDI DOHC' '275.0HP 4.6L 8 Cylinder Engine Gasoline Fuel'\n",
      " '212.0HP 4.5L Straight 6 Cylinder Engine Gasoline Fuel'\n",
      " '565.0HP 3.8L V6 Cylinder Engine Gasoline Fuel'\n",
      " '230.0HP 4.7L 8 Cylinder Engine Gasoline Fuel'\n",
      " '171.0HP 2.5L 4 Cylinder Engine Gasoline Fuel'\n",
      " '360.0HP 4.6L 8 Cylinder Engine Gasoline Fuel'\n",
      " '400.0HP 3.5L V6 Cylinder Engine Gasoline Fuel'\n",
      " '252.0HP 3.6L V6 Cylinder Engine Gasoline Fuel'\n",
      " '220.0HP 2.0L 4 Cylinder Engine Gasoline Fuel'\n",
      " '180.0HP 2.5L 4 Cylinder Engine Gasoline Fuel'\n",
      " '188.0HP 2.0L 4 Cylinder Engine Gas/Electric Hybrid'\n",
      " '275.0HP 3.7L V6 Cylinder Engine Flex Fuel Capability'\n",
      " '3.8L H6 24V GDI DOHC Twin Turbo'\n",
      " '235.0HP 3.2L Straight 6 Cylinder Engine Gasoline Fuel'\n",
      " '320.0HP 5.3L 8 Cylinder Engine Flex Fuel Capability'\n",
      " '400.0HP 2.5L 5 Cylinder Engine Gasoline Fuel'\n",
      " '300.0HP 5.4L 8 Cylinder Engine Gasoline Fuel'\n",
      " '138.0HP 2.0L 4 Cylinder Engine Gasoline Fuel'\n",
      " '354.0HP 3.0L V6 Cylinder Engine Gasoline Fuel'\n",
      " '291.0HP 2.0L 4 Cylinder Engine Gasoline Fuel'\n",
      " '523.0HP 6.0L 12 Cylinder Engine Gasoline Fuel'\n",
      " '2.5L I4 16V GDI DOHC Turbo'\n",
      " '440.0HP 3.5L V6 Cylinder Engine Gasoline Fuel' '5.6L V8 32V GDI DOHC'\n",
      " '310.0HP 3.6L V6 Cylinder Engine Gasoline Fuel'\n",
      " '188.0HP 3.0L V6 Cylinder Engine Diesel Fuel'\n",
      " '225.0HP 3.0L Straight 6 Cylinder Engine Gasoline Fuel'\n",
      " '181.0HP 1.5L 4 Cylinder Engine Gasoline Fuel'\n",
      " '173.0HP 2.4L 4 Cylinder Engine Gasoline Fuel'\n",
      " '429.0HP 4.6L 8 Cylinder Engine Gasoline Fuel'\n",
      " '355.0HP 3.8L Flat 6 Cylinder Engine Gasoline Fuel'\n",
      " '375.0HP 2.0L 4 Cylinder Engine Gasoline Fuel'\n",
      " '263.0HP 3.5L V6 Cylinder Engine Gasoline Fuel'\n",
      " '320.0HP 3.0L Straight 6 Cylinder Engine Gasoline Fuel'\n",
      " '237.0HP 2.2L 4 Cylinder Engine Gasoline Fuel'\n",
      " '310.0HP 6.8L 10 Cylinder Engine Gasoline Fuel'\n",
      " '302.0HP 5.0L 8 Cylinder Engine Gasoline Fuel'\n",
      " '382.0HP 5.5L 8 Cylinder Engine Gasoline Fuel'\n",
      " '210.0HP 2.0L 4 Cylinder Engine Gasoline Fuel'\n",
      " '450.0HP 3.5L V6 Cylinder Engine Gasoline Fuel'\n",
      " '563.0HP 5.5L 8 Cylinder Engine Gasoline Fuel'\n",
      " '283.0HP 3.6L V6 Cylinder Engine Gasoline Fuel'\n",
      " '8.0L W16 64V GDI DOHC Twin Turbo'\n",
      " '400.0HP 4.2L 8 Cylinder Engine Gasoline Fuel'\n",
      " '150.0HP 2.0L 4 Cylinder Engine Gasoline Fuel'\n",
      " '325.0HP 3.4L Flat 6 Cylinder Engine Gasoline Fuel'\n",
      " '266.0HP 2.5L 4 Cylinder Engine Plug-In Electric/Gas'\n",
      " '335.0HP 3.6L V6 Cylinder Engine Gasoline Fuel'\n",
      " '328.0HP 3.7L V6 Cylinder Engine Gasoline Fuel'\n",
      " '310.0HP 3.5L V6 Cylinder Engine Gasoline Fuel'\n",
      " '304.0HP 3.6L V6 Cylinder Engine Gasoline Fuel'\n",
      " '375.0HP 5.6L 8 Cylinder Engine Gasoline Fuel'\n",
      " '381.0HP 5.7L 8 Cylinder Engine Gasoline Fuel'\n",
      " '280.0HP 3.6L V6 Cylinder Engine Gasoline Fuel'\n",
      " '493.0HP 5.0L 10 Cylinder Engine Gasoline Fuel'\n",
      " '641.0HP 4.0L 8 Cylinder Engine Gasoline Fuel'\n",
      " '760.0HP 5.2L 8 Cylinder Engine Gasoline Fuel' '5.7L V8 16V MPFI OHV'\n",
      " '239.0HP 4.6L 8 Cylinder Engine Gasoline Fuel'\n",
      " '160.0HP 2.4L 4 Cylinder Engine Gasoline Fuel'\n",
      " '402.0HP 4.7L 8 Cylinder Engine Gasoline Fuel'\n",
      " '166.0HP 2.0L 4 Cylinder Engine Gasoline Fuel'\n",
      " '300.0HP 2.0L 4 Cylinder Engine Gasoline Fuel'\n",
      " '275.0HP 3.7L V6 Cylinder Engine Gasoline Fuel'\n",
      " '390.0HP 5.6L 8 Cylinder Engine Gasoline Fuel'\n",
      " '444.0HP 2.9L V6 Cylinder Engine Gasoline/Mild Electric Hybrid'\n",
      " '210.0HP 2.0L 4 Cylinder Engine Diesel Fuel'\n",
      " '330.0HP 3.7L V6 Cylinder Engine Gasoline Fuel'\n",
      " '265.0HP 3.5L V6 Cylinder Engine Gasoline Fuel'\n",
      " '3.0L H6 24V GDI DOHC Twin Turbo'\n",
      " '147.0HP 2.0L 4 Cylinder Engine Gasoline Fuel'\n",
      " '357.0HP 1.5L 3 Cylinder Engine Plug-In Electric/Gas'\n",
      " '3.6L V6 24V GDI DOHC' '350.0HP 2.5L 4 Cylinder Engine Gasoline Fuel'\n",
      " '400.0HP 6.0L 8 Cylinder Engine Gasoline Fuel'\n",
      " '611.0HP 3.9L 8 Cylinder Engine Gasoline Fuel'\n",
      " '295.0HP 3.4L Flat 6 Cylinder Engine Gasoline Fuel'\n",
      " '6.8L V12 48V GDI DOHC'\n",
      " '603.0HP 4.0L 8 Cylinder Engine Gasoline/Mild Electric Hybrid'\n",
      " '280.0HP 3.5L V6 Cylinder Engine Gasoline Fuel'\n",
      " '235.0HP 4.7L 8 Cylinder Engine Gasoline Fuel'\n",
      " '235.0HP 2.0L 4 Cylinder Engine Gasoline Fuel'\n",
      " '210.0HP 3.7L V6 Cylinder Engine Gasoline Fuel'\n",
      " '4.0L V8 32V GDI DOHC Twin Turbo' '2.3L I4 16V GDI DOHC Turbo'\n",
      " '228.0HP 2.4L 4 Cylinder Engine Gasoline Fuel'\n",
      " '315.0HP 3.0L Straight 6 Cylinder Engine Gasoline Fuel'\n",
      " '210.0HP 2.5L 4 Cylinder Engine Gasoline Fuel'\n",
      " '429.0HP 5.0L 8 Cylinder Engine Gasoline Fuel'\n",
      " '523.0HP 4.4L 8 Cylinder Engine Gasoline Fuel'\n",
      " '305.0HP 2.5L 4 Cylinder Engine Gasoline Fuel'\n",
      " '132.0HP 1.6L 4 Cylinder Engine Gasoline Fuel'\n",
      " '454.0HP 4.7L 8 Cylinder Engine Gasoline Fuel'\n",
      " '420.0HP 5.6L 8 Cylinder Engine Gasoline Fuel'\n",
      " '490.0HP 6.2L 8 Cylinder Engine Gasoline Fuel'\n",
      " '301.0HP 4.6L 8 Cylinder Engine Gasoline Fuel'\n",
      " '280.0HP 2.0L 4 Cylinder Engine Gasoline Fuel'\n",
      " '395.0HP 5.7L 8 Cylinder Engine Gasoline Fuel'\n",
      " '250.0HP 2.0L 4 Cylinder Engine Gasoline Fuel'\n",
      " '300.0HP 2.5L 4 Cylinder Engine Gasoline Fuel'\n",
      " '272.0HP 2.0L 4 Cylinder Engine Gasoline Fuel'\n",
      " '550.0HP 5.2L 10 Cylinder Engine Gasoline Fuel'\n",
      " '437.0HP 3.4L V6 Cylinder Engine Gas/Electric Hybrid'\n",
      " '252.0HP 2.0L 4 Cylinder Engine Gasoline Fuel'\n",
      " '230.0HP 3.0L Straight 6 Cylinder Engine Gasoline Fuel'\n",
      " '323.0HP 6.0L 8 Cylinder Engine Gasoline Fuel' '2.5L I4 16V GDI DOHC'\n",
      " '256.0HP 3.6L Flat 6 Cylinder Engine Gasoline Fuel'\n",
      " '140.0HP 2.4L 4 Cylinder Engine Gasoline Fuel'\n",
      " '600.0HP 4.4L 8 Cylinder Engine Gasoline Fuel'\n",
      " '390.0HP 5.7L 8 Cylinder Engine Gasoline Fuel'\n",
      " '188.0HP 2.0L 4 Cylinder Engine Plug-In Electric/Gas'\n",
      " '310.0HP 5.4L 8 Cylinder Engine Flex Fuel Capability'\n",
      " '603.0HP 4.0L 8 Cylinder Engine Gasoline Fuel'\n",
      " '140.0HP 1.8L 4 Cylinder Engine Gasoline Fuel'\n",
      " '3.0L V6 24V GDI DOHC Supercharged'\n",
      " '409.0HP 3.4L V6 Cylinder Engine Gasoline Fuel'\n",
      " '215.0HP 3.0L Straight 6 Cylinder Engine Gasoline Fuel'\n",
      " '640.0HP 6.2L 8 Cylinder Engine Gasoline Fuel'\n",
      " '204.0HP 2.5L V6 Cylinder Engine Gasoline Fuel'\n",
      " '375.0HP 3.0L Straight 6 Cylinder Engine Gasoline/Mild Electric Hybrid'\n",
      " '316.0HP 2.0L 4 Cylinder Engine Gasoline Fuel'\n",
      " '591.0HP 4.0L 8 Cylinder Engine Gasoline Fuel'\n",
      " '219.0HP 2.5L 4 Cylinder Engine Gas/Electric Hybrid'\n",
      " '505.0HP 2.9L V6 Cylinder Engine Gasoline Fuel'\n",
      " '403.0HP 6.2L 8 Cylinder Engine Gasoline Fuel'\n",
      " '170.0HP 2.5L 4 Cylinder Engine Gasoline Fuel'\n",
      " '115.0HP 1.7L 4 Cylinder Engine Gasoline Fuel'\n",
      " '562.0HP 3.8L 8 Cylinder Engine Gasoline Fuel'\n",
      " '404.0HP 3.0L V6 Cylinder Engine Gasoline Fuel'\n",
      " '220.0HP 3.0L V6 Cylinder Engine Gasoline Fuel'\n",
      " '302.0HP 4.6L 8 Cylinder Engine Gasoline Fuel'\n",
      " '365.0HP 3.5L V6 Cylinder Engine Gasoline Fuel'\n",
      " '106.0HP 1.5L 4 Cylinder Engine Gasoline Fuel'\n",
      " '416.0HP 4.0L 8 Cylinder Engine Gasoline Fuel'\n",
      " '201.0HP 1.6L 4 Cylinder Engine Gasoline Fuel'\n",
      " '496.0HP 4.0L 8 Cylinder Engine Gasoline/Mild Electric Hybrid'\n",
      " '505.0HP 7.0L 8 Cylinder Engine Gasoline Fuel'\n",
      " '475.0HP 6.7L 8 Cylinder Engine Diesel Fuel'\n",
      " '184.0HP 2.0L 4 Cylinder Engine Gasoline Fuel'\n",
      " '407.0HP 4.4L 8 Cylinder Engine Gasoline Fuel'\n",
      " '543.0HP 3.0L Straight 6 Cylinder Engine Gasoline Fuel'\n",
      " '333.0HP 3.0L V6 Cylinder Engine Gasoline Fuel'\n",
      " '563.0HP 6.7L 12 Cylinder Engine Gasoline Fuel'\n",
      " '553.0HP 3.9L 8 Cylinder Engine Gasoline Fuel'\n",
      " '471.0HP 5.0L 8 Cylinder Engine Gasoline Fuel'\n",
      " '295.0HP 5.3L 8 Cylinder Engine Gasoline Fuel'\n",
      " '272.0HP 3.5L V6 Cylinder Engine Gasoline Fuel'\n",
      " '350.0HP 3.7L V6 Cylinder Engine Gasoline Fuel'\n",
      " '325.0HP 3.7L V6 Cylinder Engine Gasoline Fuel'\n",
      " '380.0HP 3.5L V6 Cylinder Engine Gasoline Fuel'\n",
      " '1.5L I3 12V PDI DOHC Turbo'\n",
      " '140.0HP 2.8L V6 Cylinder Engine Gasoline Fuel'\n",
      " '247.0HP 2.0L 4 Cylinder Engine Gasoline Fuel'\n",
      " '349.0HP 3.0L V6 Cylinder Engine Gasoline Fuel'\n",
      " '420.0HP 6.2L 8 Cylinder Engine Gasoline Fuel'\n",
      " '420.0HP 4.0L 8 Cylinder Engine Gasoline Fuel'\n",
      " '190.0HP 2.4L 4 Cylinder Engine Gasoline Fuel'\n",
      " '6.7L V12 48V GDI DOHC Twin Turbo'\n",
      " '180.0HP 2.4L 4 Cylinder Engine Flex Fuel Capability'\n",
      " '410.0HP 6.4L 8 Cylinder Engine Gasoline Fuel'\n",
      " '375.0HP 3.5L V6 Cylinder Engine Gasoline Fuel'\n",
      " '208.0HP 3.3L V6 Cylinder Engine Gas/Electric Hybrid'\n",
      " '282.0HP 4.7L 8 Cylinder Engine Gasoline Fuel'\n",
      " '260.0HP 6.6L 8 Cylinder Engine Diesel Fuel' '3.0L I6 24V GDI DOHC Turbo'\n",
      " '5.7L V8 32V MPFI DOHC' '184.0HP 2.5L 4 Cylinder Engine Gasoline Fuel'\n",
      " '260.0HP 2.0L 4 Cylinder Engine Gasoline Fuel'\n",
      " '184.0HP 2.5L Straight 6 Cylinder Engine Gasoline Fuel'\n",
      " '255.0HP 2.0L 4 Cylinder Engine Gasoline Fuel'\n",
      " '245.0HP 2.7L Flat 6 Cylinder Engine Gasoline Fuel'\n",
      " '550.0HP 5.4L 8 Cylinder Engine Gasoline Fuel'\n",
      " '332.0HP 3.7L V6 Cylinder Engine Gasoline Fuel'\n",
      " '380.0HP 4.3L 8 Cylinder Engine Gasoline Fuel'\n",
      " '261.0HP 4.0L V6 Cylinder Engine Gasoline Fuel'\n",
      " '370.0HP 5.7L 8 Cylinder Engine Gasoline Fuel' '3.2L H6 24V MPFI DOHC'\n",
      " '550.0HP 6.0L 12 Cylinder Engine Gasoline Fuel'\n",
      " '360.0HP 6.0L 8 Cylinder Engine Flex Fuel Capability' '2.5L'\n",
      " '250.0HP 3.2L V6 Cylinder Engine Gasoline Fuel' '2.5L I4 16V PDI DOHC'\n",
      " '577.0HP 5.5L 8 Cylinder Engine Gasoline Fuel'\n",
      " '429.0HP 4.7L 8 Cylinder Engine Gasoline Fuel'\n",
      " '290.0HP 3.5L V6 Cylinder Engine Gasoline Fuel'\n",
      " '453.0HP 3.0L Straight 6 Cylinder Engine Gasoline Fuel'\n",
      " '150.0HP 1.4L 4 Cylinder Engine Gasoline Fuel'\n",
      " '350.0HP 2.3L 4 Cylinder Engine Gasoline Fuel'\n",
      " '247.0HP 2.0L 4 Cylinder Engine Plug-In Electric/Gas'\n",
      " '293.0HP 3.6L V6 Cylinder Engine Gasoline Fuel'\n",
      " '139.0HP 1.6L 4 Cylinder Engine Plug-In Electric/Gas'\n",
      " '389.0HP 3.0L Straight 6 Cylinder Engine Plug-In Electric/Gas'\n",
      " '567.0HP 4.4L 8 Cylinder Engine Gasoline Fuel'\n",
      " '563.0HP 6.6L 12 Cylinder Engine Gasoline Fuel'\n",
      " '221.0HP 2.0L 4 Cylinder Engine Gasoline Fuel'\n",
      " '340.0HP 5.7L 8 Cylinder Engine Gasoline Fuel'\n",
      " '305.0HP 3.7L V6 Cylinder Engine Gasoline Fuel'\n",
      " '182.0HP 2.4L 4 Cylinder Engine Gasoline Fuel'\n",
      " '630.0HP 4.0L 8 Cylinder Engine Gasoline Fuel'\n",
      " '300.0HP 3.5L V6 Cylinder Engine Gasoline Fuel'\n",
      " '381.0HP 5.7L 8 Cylinder Engine Flex Fuel Capability'\n",
      " '218.0HP 2.5L 5 Cylinder Engine Gasoline Fuel'\n",
      " '200.0HP 3.8L V6 Cylinder Engine Gasoline Fuel'\n",
      " '503.0HP 3.0L Straight 6 Cylinder Engine Gasoline Fuel'\n",
      " '335.0HP 3.0L V6 Cylinder Engine Gasoline/Mild Electric Hybrid'\n",
      " '385.0HP 3.0L V6 Cylinder Engine Gasoline Fuel'\n",
      " '271.0HP 2.0L 4 Cylinder Engine Gasoline Fuel'\n",
      " '150.0HP 2.0L 4 Cylinder Engine Diesel Fuel'\n",
      " '174.0HP 2.8L V6 Cylinder Engine Gasoline Fuel'\n",
      " '134.0HP 1.8L 4 Cylinder Engine Gas/Electric Hybrid'\n",
      " '273.0HP 3.7L V6 Cylinder Engine Gasoline Fuel'\n",
      " '600.0HP 6.0L 12 Cylinder Engine Gasoline Fuel'\n",
      " '172.0HP 1.6L 4 Cylinder Engine Gasoline Fuel'\n",
      " '245.0HP 3.5L V6 Cylinder Engine Gasoline Fuel'\n",
      " '542.0HP 4.0L 8 Cylinder Engine Gasoline Fuel'\n",
      " '188.0HP 1.6L 4 Cylinder Engine Gasoline Fuel'\n",
      " '571.0HP 6.2L 12 Cylinder Engine Gasoline Fuel'\n",
      " '601.0HP 6.6L 12 Cylinder Engine Gasoline Fuel'\n",
      " '295.0HP 3.6L V6 Cylinder Engine Gasoline Fuel'\n",
      " '365.0HP 2.5L 4 Cylinder Engine Gasoline Fuel'\n",
      " '265.0HP 2.9L Flat 6 Cylinder Engine Gasoline Fuel'\n",
      " '500.0HP 4.8L 8 Cylinder Engine Gasoline Fuel'\n",
      " '380.0HP 3.0L V6 Cylinder Engine Gasoline Fuel'\n",
      " '270.0HP 4.7L 8 Cylinder Engine Gasoline Fuel'\n",
      " '290.0HP 7.4L 8 Cylinder Engine Gasoline Fuel' 'V8'\n",
      " '335.0HP 3.0L Straight 6 Cylinder Engine Gasoline Fuel'\n",
      " '403.0HP 6.2L 8 Cylinder Engine Flex Fuel Capability'\n",
      " '161.0HP 2.4L 4 Cylinder Engine Gasoline Fuel'\n",
      " '200.0HP 2.4L 4 Cylinder Engine Gasoline Fuel'\n",
      " '394.0HP 4.2L 8 Cylinder Engine Gasoline Fuel'\n",
      " '520.0HP 4.8L 8 Cylinder Engine Gasoline Fuel'\n",
      " '1.2L I3 12V GDI DOHC Turbo'\n",
      " '266.0HP 3.5L V6 Cylinder Engine Gasoline Fuel'\n",
      " '325.0HP 3.0L Straight 6 Cylinder Engine Gasoline Fuel'\n",
      " '164.0HP 1.4L 4 Cylinder Engine Gasoline Fuel'\n",
      " '245.0HP 5.9L 8 Cylinder Engine Gasoline Fuel'\n",
      " '205.0HP 3.8L V6 Cylinder Engine Gasoline Fuel'\n",
      " '181.0HP 1.6L 4 Cylinder Engine Gasoline Fuel'\n",
      " '325.0HP 2.0L 4 Cylinder Engine Gasoline/Mild Electric Hybrid'\n",
      " '308.0HP 3.5L V6 Cylinder Engine Gas/Electric Hybrid'\n",
      " '226.0HP 1.6L 4 Cylinder Engine Gas/Electric Hybrid'\n",
      " '227.0HP 2.5L 5 Cylinder Engine Gasoline Fuel'\n",
      " '240.0HP 3.5L V6 Cylinder Engine Gasoline Fuel'\n",
      " '170.0HP 1.8L 4 Cylinder Engine Gasoline Fuel'\n",
      " '412.0HP 5.0L 8 Cylinder Engine Gasoline Fuel'\n",
      " '420.0HP 4.7L 8 Cylinder Engine Gasoline Fuel'\n",
      " '158.0HP 2.0L 4 Cylinder Engine Gasoline Fuel'\n",
      " '190.0HP 4.0L Straight 6 Cylinder Engine Gasoline Fuel'\n",
      " '414.0HP 4.0L 8 Cylinder Engine Gasoline Fuel'\n",
      " '177.0HP 1.6L 4 Cylinder Engine Plug-In Electric/Gas'\n",
      " '285.0HP 3.6L V6 Cylinder Engine Gasoline/Mild Electric Hybrid'\n",
      " '573.0HP 5.2L 10 Cylinder Engine Gasoline Fuel'\n",
      " '315.0HP 2.7L V6 Cylinder Engine Gasoline Fuel'\n",
      " '277.0HP 3.0L Straight 6 Cylinder Engine Diesel Fuel'\n",
      " '191.0HP 2.5L 4 Cylinder Engine Gasoline Fuel'\n",
      " '263.0HP 4.7L 8 Cylinder Engine Gasoline Fuel'\n",
      " '318.0HP 3.6L V6 Cylinder Engine Gasoline Fuel'\n",
      " '420.0HP 4.2L 8 Cylinder Engine Gasoline Fuel'\n",
      " '285.0HP 4.3L V6 Cylinder Engine Flex Fuel Capability'\n",
      " '275.0HP 3.5L V6 Cylinder Engine Gasoline Fuel'\n",
      " '411.0HP 6.2L 8 Cylinder Engine Gasoline Fuel'\n",
      " '250.0HP 3.0L Flat 6 Cylinder Engine Gasoline Fuel'\n",
      " '244.0HP 2.3L 4 Cylinder Engine Gasoline Fuel'\n",
      " '250.0HP 3.0L V6 Cylinder Engine Diesel Fuel'\n",
      " '605.0HP 4.0L 8 Cylinder Engine Gasoline Fuel'\n",
      " '192.0HP 2.0L 4 Cylinder Engine Gas/Electric Hybrid'\n",
      " '207.0HP 4.0L V6 Cylinder Engine Gasoline Fuel'\n",
      " '323.0HP 3.6L V6 Cylinder Engine Gasoline Fuel'\n",
      " '155.0HP 2.0L 4 Cylinder Engine Gasoline Fuel'\n",
      " '189.0HP 2.0L 4 Cylinder Engine Gasoline Fuel'\n",
      " '205.0HP 2.0L 4 Cylinder Engine Gasoline Fuel'\n",
      " '250.0HP 2.7L V6 Cylinder Engine Gasoline Fuel'\n",
      " '311.0HP 3.8L V6 Cylinder Engine Gasoline Fuel'\n",
      " '450.0HP 6.7L 8 Cylinder Engine Diesel Fuel'\n",
      " '185.0HP 2.4L 4 Cylinder Engine Gasoline Fuel'\n",
      " '350.0HP 6.4L 8 Cylinder Engine Diesel Fuel'\n",
      " '275.0HP 3.5L V6 Cylinder Engine Flex Fuel Capability'\n",
      " '248.0HP 3.5L V6 Cylinder Engine Gasoline Fuel'\n",
      " '325.0HP 8.1L 8 Cylinder Engine Gasoline Fuel'\n",
      " '162.0HP 2.4L 4 Cylinder Engine Gasoline Fuel'\n",
      " '240.0HP 4.7L 8 Cylinder Engine Gasoline Fuel'\n",
      " '450.0HP 4.2L 8 Cylinder Engine Gasoline Fuel'\n",
      " '400.0HP 4.8L 8 Cylinder Engine Gasoline Fuel' '2.0L I4 16V GDI DOHC'\n",
      " '187.0HP 2.5L 4 Cylinder Engine Gasoline Fuel'\n",
      " '192.0HP 2.4L 4 Cylinder Engine Gasoline Fuel'\n",
      " '270.0HP 3.5L V6 Cylinder Engine Gasoline Fuel' '2.4L I4 16V MPFI DOHC'\n",
      " '313.0HP 2.0L 4 Cylinder Engine Plug-In Electric/Gas'\n",
      " '192.0HP 2.3L 4 Cylinder Engine Gasoline Fuel'\n",
      " '150.0HP 2.4L 4 Cylinder Engine Gasoline Fuel'\n",
      " '228.0HP 3.0L V6 Cylinder Engine Gasoline Fuel'\n",
      " '172.0HP 2.4L 4 Cylinder Engine Gasoline Fuel'\n",
      " '306.0HP 3.5L V6 Cylinder Engine Gas/Electric Hybrid'\n",
      " '3.0L I6 24V GDI DOHC Twin Turbo'\n",
      " '240.0HP 3.2L Straight 6 Cylinder Engine Gasoline Fuel'\n",
      " '557.0HP 5.0L 8 Cylinder Engine Gasoline Fuel'\n",
      " '147.0HP 2.4L 4 Cylinder Engine Gas/Electric Hybrid'\n",
      " '281.0HP 3.6L V6 Cylinder Engine Gasoline Fuel'\n",
      " '350.0HP 6.7L Straight 6 Cylinder Engine Diesel Fuel'\n",
      " '385.0HP 6.7L Straight 6 Cylinder Engine Diesel Fuel'\n",
      " '362.0HP 4.6L 8 Cylinder Engine Gasoline Fuel'\n",
      " '275.0HP 4.2L Straight 6 Cylinder Engine Gasoline Fuel'\n",
      " '463.0HP 4.0L 8 Cylinder Engine Gasoline Fuel'\n",
      " '138.0HP 1.4L 4 Cylinder Engine Gasoline Fuel'\n",
      " '536.0HP 5.5L 8 Cylinder Engine Gasoline Fuel'\n",
      " '186.0HP 2.5L 4 Cylinder Engine Gasoline Fuel'\n",
      " '306.0HP 3.8L V6 Cylinder Engine Gasoline Fuel'\n",
      " '577.0HP 4.0L 8 Cylinder Engine Gasoline Fuel'\n",
      " '797.0HP 6.2L 8 Cylinder Engine Gasoline Fuel'\n",
      " '265.0HP 2.7L Flat 6 Cylinder Engine Gasoline Fuel'\n",
      " '315.0HP 4.6L 8 Cylinder Engine Gasoline Fuel'\n",
      " '3.4L V6 24V PDI DOHC Twin Turbo Hybrid'\n",
      " '240.0HP 3.0L V6 Cylinder Engine Diesel Fuel'\n",
      " '360.0HP 4.8L 8 Cylinder Engine Gasoline Fuel'\n",
      " '449.0HP 4.7L 8 Cylinder Engine Gasoline Fuel'\n",
      " '6.0L 8 Cylinder Engine Gasoline Fuel'\n",
      " '310.0HP 2.3L 4 Cylinder Engine Gasoline Fuel'\n",
      " '153.0HP 1.4L 4 Cylinder Engine Gasoline Fuel'\n",
      " '395.0HP 3.0L Straight 6 Cylinder Engine Gasoline/Mild Electric Hybrid'\n",
      " '296.0HP 2.0L 4 Cylinder Engine Gasoline Fuel'\n",
      " '400.0HP 4.4L 8 Cylinder Engine Gasoline Fuel'\n",
      " '210.0HP 4.0L V6 Cylinder Engine Gasoline Fuel'\n",
      " '650.0HP 6.2L 8 Cylinder Engine Gasoline Fuel'\n",
      " '280.0HP 3.9L 8 Cylinder Engine Gasoline Fuel'\n",
      " '291.0HP 3.8L V6 Cylinder Engine Gasoline Fuel'\n",
      " '295.0HP 3.5L V6 Cylinder Engine Gasoline Fuel' '6.0L V8 16V MPFI OHV'\n",
      " '375.0HP 5.7L 8 Cylinder Engine Gasoline Fuel'\n",
      " '759.0HP 6.5L 12 Cylinder Engine Gasoline Fuel'\n",
      " '260.0HP 4.6L 8 Cylinder Engine Gasoline Fuel'\n",
      " '150.0HP 3.8L V6 Cylinder Engine Gasoline Fuel'\n",
      " '268.0HP 2.0L 4 Cylinder Engine Gasoline Fuel'\n",
      " '518.0HP 5.0L 8 Cylinder Engine Gasoline Fuel'\n",
      " '240.0HP 3.0L V6 Cylinder Engine Flex Fuel Capability'\n",
      " '286.0HP 2.0L 4 Cylinder Engine Gasoline Fuel'\n",
      " '270.0HP 3.0L V6 Cylinder Engine Gasoline Fuel'\n",
      " '455.0HP 6.2L 8 Cylinder Engine Gasoline Fuel'\n",
      " '208.0HP 2.5L 4 Cylinder Engine Gas/Electric Hybrid'\n",
      " '295.0HP 3.5L V6 Cylinder Engine Gas/Electric Hybrid'\n",
      " '525.0HP 5.2L 10 Cylinder Engine Gasoline Fuel'\n",
      " '190.0HP 4.3L V6 Cylinder Engine Gasoline Fuel'\n",
      " '2.0L I4 16V MPFI DOHC Hybrid'\n",
      " '246.0HP 2.0L 4 Cylinder Engine Gasoline Fuel'\n",
      " '414.0HP 4.0L Flat 6 Cylinder Engine Gasoline Fuel'\n",
      " '526.0HP 5.2L 8 Cylinder Engine Gasoline Fuel' '6.2L V8 16V GDI OHV'\n",
      " '335.0HP 3.0L Straight 6 Cylinder Engine Gasoline/Mild Electric Hybrid'\n",
      " '397.0HP 6.6L 8 Cylinder Engine Diesel Fuel'\n",
      " '645.0HP 8.4L 10 Cylinder Engine Gasoline Fuel'\n",
      " '575.0HP 5.0L 8 Cylinder Engine Gasoline Fuel'\n",
      " '201.0HP 2.4L 4 Cylinder Engine Gasoline Fuel'\n",
      " '3.6L V6 24V MPFI DOHC Flexible Fuel'\n",
      " '401.0HP 2.5L 5 Cylinder Engine Gasoline Fuel'\n",
      " '348.0HP 3.8L V6 Cylinder Engine Gasoline Fuel'\n",
      " '303.0HP 3.4L Flat 6 Cylinder Engine Gasoline Fuel'\n",
      " '6.4L V8 32V DDI OHV Twin Turbo Diesel'\n",
      " '510.0HP 5.0L 8 Cylinder Engine Gasoline Fuel'\n",
      " '305.0HP 3.6L V6 Cylinder Engine Flex Fuel Capability'\n",
      " '290.0HP 3.6L V6 Cylinder Engine Flex Fuel Capability'\n",
      " '215.0HP 3.2L V6 Cylinder Engine Gasoline Fuel'\n",
      " '354.0HP 4.2L 8 Cylinder Engine Gasoline Fuel'\n",
      " '122.0HP 1.8L 4 Cylinder Engine Gasoline Fuel'\n",
      " '180.0HP 1.8L 4 Cylinder Engine Gasoline Fuel'\n",
      " '429.0HP 3.0L Straight 6 Cylinder Engine Gasoline/Mild Electric Hybrid'\n",
      " '255.0HP 3.2L V6 Cylinder Engine Gasoline Fuel'\n",
      " '345.0HP 6.0L 8 Cylinder Engine Gasoline Fuel'\n",
      " '179.0HP 2.5L 4 Cylinder Engine Gasoline Fuel'\n",
      " '167.0HP 2.0L 4 Cylinder Engine Gasoline Fuel'\n",
      " '173.0HP 1.6L 4 Cylinder Engine Gasoline Fuel'\n",
      " '255.0HP 2.9L Flat 6 Cylinder Engine Gasoline Fuel'\n",
      " '270.0HP 4.0L V6 Cylinder Engine Gasoline Fuel'\n",
      " '416.0HP 5.0L 8 Cylinder Engine Gasoline Fuel'\n",
      " '591.0HP 4.0L 8 Cylinder Engine Gasoline/Mild Electric Hybrid'\n",
      " '335.0HP 2.7L V6 Cylinder Engine Gasoline Fuel'\n",
      " '202.0HP 2.5L 4 Cylinder Engine Gasoline Fuel'\n",
      " '136.0HP 2.0L 4 Cylinder Engine Gasoline Fuel'\n",
      " '300.0HP 6.6L 8 Cylinder Engine Diesel Fuel' '4.0L H6 24V GDI DOHC'\n",
      " '385.0HP 5.0L 8 Cylinder Engine Flex Fuel Capability'\n",
      " '385.0HP 3.8L Flat 6 Cylinder Engine Gasoline Fuel'\n",
      " '151.0HP 1.5L 4 Cylinder Engine Gas/Electric Hybrid'\n",
      " '3.4L H6 24V MPFI DOHC' '617.0HP 4.4L 8 Cylinder Engine Gasoline Fuel'\n",
      " '340.0HP 4.2L 8 Cylinder Engine Gasoline Fuel'\n",
      " '146.0HP 2.0L 4 Cylinder Engine Gasoline Fuel'\n",
      " '329.0HP 3.0L V6 Cylinder Engine Gasoline Fuel'\n",
      " '294.0HP 4.2L 8 Cylinder Engine Gasoline Fuel'\n",
      " '440.0HP 4.8L 8 Cylinder Engine Gasoline Fuel'\n",
      " '550.0HP 4.0L 8 Cylinder Engine Gasoline Fuel'\n",
      " '317.0HP 5.6L 8 Cylinder Engine Flex Fuel Capability'\n",
      " '500.0HP 8.3L 10 Cylinder Engine Gasoline Fuel'\n",
      " '315.0HP 5.3L 8 Cylinder Engine Flex Fuel Capability'\n",
      " '335.0HP 4.6L 8 Cylinder Engine Gasoline Fuel'\n",
      " '350.0HP 3.4L Flat 6 Cylinder Engine Gasoline Fuel'\n",
      " '280.0HP 3.2L Flat 6 Cylinder Engine Gasoline Fuel'\n",
      " '350.0HP 5.7L 8 Cylinder Engine Gasoline Fuel'\n",
      " '260.0HP 3.5L V6 Cylinder Engine Gasoline Fuel'\n",
      " '263.0HP 2.3L 4 Cylinder Engine Gasoline Fuel'\n",
      " '175.0HP 1.6L 4 Cylinder Engine Gasoline Fuel'\n",
      " '300.0HP 5.3L 8 Cylinder Engine Gasoline Fuel'\n",
      " '440.0HP 4.7L 8 Cylinder Engine Gasoline Fuel'\n",
      " '365.0HP 3.0L Straight 6 Cylinder Engine Gasoline Fuel'\n",
      " '175.0HP 2.5L 4 Cylinder Engine Gasoline Fuel'\n",
      " '260.0HP 5.7L 8 Cylinder Engine Gasoline Fuel'\n",
      " '717.0HP 6.2L 8 Cylinder Engine Gasoline Fuel'\n",
      " '435.0HP 5.0L 8 Cylinder Engine Gasoline Fuel'\n",
      " '265.0HP 2.0L 4 Cylinder Engine Gasoline Fuel'\n",
      " '405.0HP 3.0L Straight 6 Cylinder Engine Gasoline Fuel'\n",
      " '616.0HP 6.0L 12 Cylinder Engine Gasoline Fuel'\n",
      " '340.0HP 8.1L 8 Cylinder Engine Gasoline Fuel'\n",
      " '137.0HP 1.8L 4 Cylinder Engine Gasoline Fuel'\n",
      " '273.0HP 4.7L 8 Cylinder Engine Gasoline Fuel'\n",
      " '405.0HP 4.8L 8 Cylinder Engine Gasoline Fuel'\n",
      " '152.0HP 2.0L 4 Cylinder Engine Gasoline Fuel'\n",
      " '160.0HP 2.0L 4 Cylinder Engine Gasoline Fuel'\n",
      " '206.0HP 2.4L 4 Cylinder Engine Gas/Electric Hybrid'\n",
      " '445.0HP 6.6L 8 Cylinder Engine Diesel Fuel'\n",
      " '444.0HP 4.7L 8 Cylinder Engine Gasoline Fuel'\n",
      " '415.0HP 3.6L Flat 6 Cylinder Engine Gasoline Fuel'\n",
      " '170.0HP 2.5L Straight 6 Cylinder Engine Gasoline Fuel'\n",
      " '460.0HP 5.0L 8 Cylinder Engine Gasoline Fuel'\n",
      " '707.0HP 6.2L 8 Cylinder Engine Gasoline Fuel'\n",
      " '319.0HP 6.0L 8 Cylinder Engine Gasoline Fuel'\n",
      " '426.0HP 6.2L 8 Cylinder Engine Gasoline Fuel'\n",
      " '555.0HP 4.4L 8 Cylinder Engine Gasoline Fuel'\n",
      " '190.0HP 2.8L Straight 6 Cylinder Engine Gasoline Fuel'\n",
      " '335.0HP 4.7L 8 Cylinder Engine Gasoline Fuel'\n",
      " '155.0HP 1.3L 3 Cylinder Engine Gasoline Fuel'\n",
      " '227.0HP 2.5L 4 Cylinder Engine Gasoline Fuel'\n",
      " '174.0HP 2.0L 4 Cylinder Engine Gasoline Fuel'\n",
      " '455.0HP 2.0L 4 Cylinder Engine Plug-In Electric/Gas'\n",
      " '405.0HP 3.0L V6 Cylinder Engine Gasoline Fuel' '6.5L V12 48V MPFI DOHC'\n",
      " '480.0HP 5.0L 8 Cylinder Engine Gasoline Fuel'\n",
      " '239.0HP 4.0L V6 Cylinder Engine Gasoline Fuel'\n",
      " '485.0HP 6.4L 8 Cylinder Engine Gasoline Fuel'\n",
      " '330.0HP 3.0L V6 Cylinder Engine Gasoline Fuel'\n",
      " '191.0HP 2.5L 4 Cylinder Engine Gas/Electric Hybrid'\n",
      " '220.0HP 3.5L 5 Cylinder Engine Gasoline Fuel'\n",
      " '121.0HP 1.8L 4 Cylinder Engine Gas/Electric Hybrid'\n",
      " '210.0HP 4.0L Straight 6 Cylinder Engine Gasoline Fuel'\n",
      " '430.0HP 6.2L 8 Cylinder Engine Gasoline Fuel'\n",
      " '290.0HP 3.5L V6 Cylinder Engine Flex Fuel Capability'\n",
      " '315.0HP 3.6L Flat 6 Cylinder Engine Gasoline Fuel'\n",
      " '3.0L V6 24V PDI DOHC Twin Turbo'\n",
      " '380.0HP 4.6L 8 Cylinder Engine Gasoline Fuel'\n",
      " '265.0HP 2.5L 4 Cylinder Engine Gasoline Fuel'\n",
      " '401.0HP 6.6L 8 Cylinder Engine Gasoline Fuel'\n",
      " '159.0HP 2.7L 4 Cylinder Engine Gasoline Fuel'\n",
      " '288.0HP 2.0L 4 Cylinder Engine Plug-In Electric/Gas'\n",
      " '208.0HP 2.0L 4 Cylinder Engine Flex Fuel Capability'\n",
      " '378.0HP 4.6L 8 Cylinder Engine Gasoline Fuel'\n",
      " '321.0HP 3.6L V6 Cylinder Engine Gasoline Fuel'\n",
      " '220.0HP 4.6L 8 Cylinder Engine Gasoline Fuel'\n",
      " '300.0HP 4.2L 8 Cylinder Engine Gasoline Fuel'\n",
      " '325.0HP 3.6L Flat 6 Cylinder Engine Gasoline Fuel'\n",
      " '220.0HP 2.0L 4 Cylinder Engine Flex Fuel Capability'\n",
      " '265.0HP 3.2L V6 Cylinder Engine Gasoline Fuel'\n",
      " '325.0HP 6.0L 8 Cylinder Engine Diesel Fuel'\n",
      " '275.0HP 2.3L 4 Cylinder Engine Gasoline Fuel' '5.0L V8 32V PDI DOHC'\n",
      " '344.0HP 3.8L V6 Cylinder Engine Gasoline Fuel'\n",
      " '133.0HP 2.2L 4 Cylinder Engine Gasoline Fuel'\n",
      " '560.0HP 5.2L 10 Cylinder Engine Gasoline Fuel'\n",
      " '290.0HP 3.8L V6 Cylinder Engine Gasoline Fuel'\n",
      " '306.0HP 2.0L 4 Cylinder Engine Gasoline Fuel'\n",
      " '360.0HP 5.7L 8 Cylinder Engine Gasoline Fuel' '3.2L V6 18V MPFI SOHC'\n",
      " '2.5L I4 16V MPFI DOHC' '3.5L V6 24V GDI DOHC Twin Turbo'\n",
      " '232.0HP 1.3L Rotary engine Gasoline Fuel'\n",
      " '201.0HP 2.5L Flat 6 Cylinder Engine Gasoline Fuel'\n",
      " '420.0HP 3.0L Flat 6 Cylinder Engine Gasoline Fuel'\n",
      " '345.0HP 3.0L V6 Cylinder Engine Gasoline Fuel'\n",
      " '300.0HP 4.3L 8 Cylinder Engine Gasoline Fuel'\n",
      " '355.0HP 3.0L V6 Cylinder Engine Gasoline Fuel'\n",
      " '134.0HP 1.5L 3 Cylinder Engine Gasoline Fuel'\n",
      " '142.0HP 1.8L 4 Cylinder Engine Gasoline Fuel'\n",
      " '6.8L V12 48V GDI DOHC Twin Turbo'\n",
      " '290.0HP 4.3L 8 Cylinder Engine Gasoline Fuel'\n",
      " '500.0HP 5.0L 10 Cylinder Engine Gasoline Fuel'\n",
      " '278.0HP 3.5L V6 Cylinder Engine Gasoline Fuel'\n",
      " '3.0L V6 24V GDI DOHC Turbo'\n",
      " '301.0HP 3.6L V6 Cylinder Engine Gasoline Fuel'\n",
      " '78.0HP 1.2L 3 Cylinder Engine Gasoline Fuel'\n",
      " '258.0HP 3.2L V6 Cylinder Engine Gasoline Fuel'\n",
      " '264.0HP 3.0L V6 Cylinder Engine Gasoline Fuel'\n",
      " '210.0HP 3.0L V6 Cylinder Engine Gasoline Fuel'\n",
      " '306.0HP 3.0L Straight 6 Cylinder Engine Gasoline Fuel'\n",
      " '181.0HP 4.0L Straight 6 Cylinder Engine Gasoline Fuel'\n",
      " '333.0HP 3.2L Straight 6 Cylinder Engine Gasoline Fuel'\n",
      " '181.0HP 2.5L 4 Cylinder Engine Gasoline Fuel'\n",
      " '118.0HP 1.6L 4 Cylinder Engine Gasoline Fuel'\n",
      " '76.0HP 1.5L 4 Cylinder Engine Gas/Electric Hybrid'\n",
      " '320.0HP 5.3L 8 Cylinder Engine Gasoline Fuel'\n",
      " '202.0HP 3.8L V6 Cylinder Engine Gasoline Fuel'\n",
      " '310.0HP 5.7L 8 Cylinder Engine Gasoline Fuel'\n",
      " '788.0HP 6.5L 12 Cylinder Engine Gasoline Fuel'\n",
      " '325.0HP 2.7L V6 Cylinder Engine Gasoline Fuel'\n",
      " '131.0HP 2.0L 4 Cylinder Engine Gasoline Fuel'\n",
      " '148.0HP 2.0L 4 Cylinder Engine Gasoline Fuel'\n",
      " '203.0HP 2.5L 4 Cylinder Engine Gasoline Fuel'\n",
      " '253.0HP 3.5L V6 Cylinder Engine Gasoline Fuel'\n",
      " '295.0HP 5.3L 8 Cylinder Engine Flex Fuel Capability'\n",
      " '153.0HP 2.3L 4 Cylinder Engine Gasoline Fuel'\n",
      " '260.0HP 3.0L Straight 6 Cylinder Engine Gasoline Fuel'\n",
      " '312.0HP 3.6L V6 Cylinder Engine Gasoline Fuel'\n",
      " '467.0HP 5.0L 8 Cylinder Engine Gasoline Fuel'\n",
      " '188.0HP 2.0L 4 Cylinder Engine Gasoline Fuel'\n",
      " '300.0HP 3.0L V6 Cylinder Engine Gasoline Fuel'\n",
      " '206.0HP 2.4L 4 Cylinder Engine Gasoline Fuel'\n",
      " '440.0HP 6.7L 8 Cylinder Engine Diesel Fuel'\n",
      " '168.0HP 2.4L 4 Cylinder Engine Gasoline Fuel'\n",
      " '230.0HP 3.3L V6 Cylinder Engine Gasoline Fuel'\n",
      " '156.0HP 2.0L 4 Cylinder Engine Gasoline Fuel'\n",
      " '1.5L I4 16V GDI DOHC Turbo'\n",
      " '275.0HP 4.8L 8 Cylinder Engine Gasoline Fuel'\n",
      " '353.0HP 6.0L 8 Cylinder Engine Gasoline Fuel'\n",
      " '405.0HP 4.2L 8 Cylinder Engine Gasoline Fuel'\n",
      " '292.0HP 3.6L V6 Cylinder Engine Gasoline Fuel'\n",
      " '138.0HP 1.6L 4 Cylinder Engine Gasoline Fuel'\n",
      " '317.0HP 5.6L 8 Cylinder Engine Gasoline Fuel'\n",
      " '255.0HP 3.5L V6 Cylinder Engine Gasoline Fuel'\n",
      " '332.0HP 6.0L 8 Cylinder Engine Gas/Electric Hybrid'\n",
      " '510.0HP 5.0L 8 Cylinder Engine Flex Fuel Capability'\n",
      " '260.0HP 4.0L V6 Cylinder Engine Gasoline Fuel'\n",
      " '160.0HP 2.0L 4 Cylinder Engine Flex Fuel Capability'\n",
      " '286.0HP 3.5L V6 Cylinder Engine Gasoline Fuel'\n",
      " '385.0HP 5.0L 8 Cylinder Engine Gasoline Fuel'\n",
      " '205.0HP 1.5L 4 Cylinder Engine Gasoline Fuel'\n",
      " '201.0HP 3.5L V6 Cylinder Engine Gasoline Fuel'\n",
      " '500.0HP 4.0L 8 Cylinder Engine Gasoline Fuel'\n",
      " '567.0HP 6.0L 12 Cylinder Engine Flex Fuel Capability'\n",
      " '280.0HP 3.0L V6 Cylinder Engine Gasoline Fuel'\n",
      " '295.0HP 4.8L 8 Cylinder Engine Gasoline Fuel'\n",
      " '480.0HP 3.8L V6 Cylinder Engine Gasoline Fuel'\n",
      " '545.0HP 3.8L V6 Cylinder Engine Gasoline Fuel' '4.6L V8 32V MPFI DOHC'\n",
      " '215.0HP 3.8L V6 Cylinder Engine Gasoline Fuel'\n",
      " '416.0HP 3.5L V6 Cylinder Engine Gasoline Fuel'\n",
      " '260.0HP 3.8L V6 Cylinder Engine Gasoline Fuel' '2.0L I4 16V MPFI DOHC'\n",
      " '316.0HP 6.0L 8 Cylinder Engine Gasoline Fuel'\n",
      " '451.0HP 6.2L 8 Cylinder Engine Gasoline Fuel'\n",
      " '390.0HP 4.2L 8 Cylinder Engine Gasoline Fuel'\n",
      " '256.0HP 2.0L 4 Cylinder Engine Gasoline Fuel'\n",
      " '197.0HP 2.5L 4 Cylinder Engine Gasoline Fuel'\n",
      " '420.0HP 4.8L 8 Cylinder Engine Gasoline Fuel'\n",
      " '290.0HP 4.0L 8 Cylinder Engine Gasoline Fuel'\n",
      " '161.0HP 2.0L 4 Cylinder Engine Diesel Fuel'\n",
      " '245.0HP 4.0L V6 Cylinder Engine Gasoline Fuel'\n",
      " '1.3L I3 12V GDI DOHC Turbo'\n",
      " '295.0HP 3.6L V6 Cylinder Engine Flex Fuel Capability'\n",
      " '4.7L 8 Cylinder Engine Gasoline Fuel'\n",
      " '518.0HP 6.3L 8 Cylinder Engine Gasoline Fuel'\n",
      " '330.0HP 2.0L 4 Cylinder Engine Gasoline Fuel'\n",
      " '386.0HP 4.6L 8 Cylinder Engine Gasoline Fuel'\n",
      " '310.0HP 5.3L 8 Cylinder Engine Flex Fuel Capability'\n",
      " '453.0HP 4.0L 8 Cylinder Engine Gasoline Fuel'\n",
      " '260.0HP 3.6L V6 Cylinder Engine Gasoline Fuel'\n",
      " '475.0HP 6.4L 8 Cylinder Engine Gasoline Fuel'\n",
      " '521.0HP 4.0L 8 Cylinder Engine Gasoline Fuel'\n",
      " '180.0HP 1.6L 4 Cylinder Engine Gasoline Fuel'\n",
      " '495.0HP 5.0L 8 Cylinder Engine Gasoline Fuel'\n",
      " '303.0HP 3.5L V6 Cylinder Engine Gasoline Fuel'\n",
      " '180.0HP 1.6L 4 Cylinder Engine Plug-In Electric/Gas'\n",
      " '621.0HP 6.0L 12 Cylinder Engine Gasoline Fuel'\n",
      " '321.0HP 3.0L V6 Cylinder Engine Gas/Electric Hybrid'\n",
      " '173.0HP 2.0L 4 Cylinder Engine Gasoline Fuel'\n",
      " '456.0HP 4.0L 8 Cylinder Engine Gasoline Fuel'\n",
      " '161.0HP 2.1L 4 Cylinder Engine Diesel Fuel'\n",
      " '279.0HP 3.5L V6 Cylinder Engine Gasoline Fuel'\n",
      " '281.0HP 3.0L Straight 6 Cylinder Engine Gasoline Fuel'\n",
      " '283.0HP 3.6L V6 Cylinder Engine Flex Fuel Capability'\n",
      " '451.0HP 6.3L 8 Cylinder Engine Gasoline Fuel'\n",
      " '275.0HP 2.0L 4 Cylinder Engine Gasoline Fuel'\n",
      " '355.0HP 5.3L 8 Cylinder Engine Flex Fuel Capability'\n",
      " '210.0HP 3.3L V6 Cylinder Engine Gasoline Fuel'\n",
      " '420.0HP 3.6L V6 Cylinder Engine Gasoline Fuel'\n",
      " '390.0HP 5.0L 8 Cylinder Engine Gasoline Fuel'\n",
      " '300.0HP 6.0L 8 Cylinder Engine Gasoline Fuel'\n",
      " '540.0HP 3.8L Flat 6 Cylinder Engine Gasoline Fuel'\n",
      " '104.0HP 1.6L 4 Cylinder Engine Gasoline Fuel'\n",
      " '400.0HP 6.7L Straight 6 Cylinder Engine Diesel Fuel'\n",
      " '395.0HP 5.7L 8 Cylinder Engine Gasoline/Mild Electric Hybrid'\n",
      " '385.0HP 6.2L 8 Cylinder Engine Flex Fuel Capability'\n",
      " '180.0HP 6.5L 8 Cylinder Engine Diesel Fuel'\n",
      " '165.0HP 2.5L 4 Cylinder Engine Gasoline Fuel' '3.5L V6 24V PDI DOHC'\n",
      " '460.0HP 6.2L 8 Cylinder Engine Gasoline Fuel'\n",
      " '372.0HP 5.7L 8 Cylinder Engine Gasoline Fuel'\n",
      " '475.0HP 3.8L Flat 6 Cylinder Engine Gasoline Fuel'\n",
      " '115.0HP 1.6L 4 Cylinder Engine Gasoline Fuel'\n",
      " '440.0HP 2.9L V6 Cylinder Engine Gasoline Fuel'\n",
      " '239.0HP 3.7L 5 Cylinder Engine Gasoline Fuel'\n",
      " '115.0HP 2.0L 4 Cylinder Engine Gasoline Fuel'\n",
      " '366.0HP 6.0L 8 Cylinder Engine Gasoline Fuel'\n",
      " '260.0HP 2.4L 4 Cylinder Engine Gasoline Fuel'\n",
      " '310.0HP 2.7L 4 Cylinder Engine Gasoline Fuel'\n",
      " '556.0HP 6.2L 8 Cylinder Engine Gasoline Fuel'\n",
      " '193.0HP 2.5L 4 Cylinder Engine Gasoline Fuel'\n",
      " '170.0HP 2.5L 5 Cylinder Engine Gasoline Fuel'\n",
      " '393.0HP 6.2L 8 Cylinder Engine Gasoline Fuel'\n",
      " '355.0HP 5.7L 8 Cylinder Engine Gasoline Fuel'\n",
      " '400.0HP 6.2L 8 Cylinder Engine Gasoline Fuel'\n",
      " '250.0HP 7.3L 8 Cylinder Engine Diesel Fuel'\n",
      " '198.0HP 2.4L 4 Cylinder Engine Gasoline Fuel'\n",
      " '389.0HP 3.4L V6 Cylinder Engine Gasoline Fuel'\n",
      " '227.0HP 1.6L 4 Cylinder Engine Gas/Electric Hybrid'\n",
      " '290.0HP 3.3L V6 Cylinder Engine Gasoline Fuel'\n",
      " '330.0HP 3.4L Flat 6 Cylinder Engine Gasoline Fuel'\n",
      " '298.0HP 3.5L V6 Cylinder Engine Gasoline Fuel'\n",
      " '145.0HP 1.8L 4 Cylinder Engine Gasoline Fuel'\n",
      " '242.0HP 3.7L 5 Cylinder Engine Gasoline Fuel'\n",
      " '210.0HP 5.8L 8 Cylinder Engine Gasoline Fuel'\n",
      " '243.0HP 2.5L 4 Cylinder Engine Gasoline Fuel'\n",
      " '201.0HP 1.8L 4 Cylinder Engine Gasoline Fuel'\n",
      " '552.0HP 6.0L 12 Cylinder Engine Gasoline Fuel'\n",
      " '272.0HP 3.0L V6 Cylinder Engine Gasoline Fuel'\n",
      " '181.0HP 2.0L 4 Cylinder Engine Gasoline Fuel'\n",
      " '70.0HP 1.0L 3 Cylinder Engine Gasoline Fuel'\n",
      " '540.0HP 4.4L 8 Cylinder Engine Gasoline Fuel'\n",
      " '375.0HP 2.0L 4 Cylinder Engine Plug-In Electric/Gas'\n",
      " '302.0HP 3.5L V6 Cylinder Engine Flex Fuel Capability'\n",
      " '169.0HP 2.4L 4 Cylinder Engine Gasoline Fuel'\n",
      " '320.0HP 4.6L 8 Cylinder Engine Gasoline Fuel'\n",
      " '345.0HP 3.6L Flat 6 Cylinder Engine Gasoline Fuel'\n",
      " '610.0HP 5.2L 10 Cylinder Engine Gasoline Fuel' '6.4L V8 16V MPFI OHV'\n",
      " '310.0HP 4.6L 8 Cylinder Engine Gasoline Fuel'\n",
      " '265.0HP 4.0L V6 Cylinder Engine Gasoline Fuel'\n",
      " '160.0HP 1.5L 4 Cylinder Engine Gasoline Fuel'\n",
      " '2.0L I4 16V GDI DOHC Flexible Fuel'\n",
      " '141.0HP 2.0L 4 Cylinder Engine Gasoline Fuel'\n",
      " '152.0HP 3.0L V6 Cylinder Engine Flex Fuel Capability'\n",
      " '500.0HP 4.0L Flat 6 Cylinder Engine Gasoline Fuel'\n",
      " '166.0HP 2.4L 4 Cylinder Engine Gasoline Fuel'\n",
      " '310.0HP 4.7L 8 Cylinder Engine Flex Fuel Capability'\n",
      " '480.0HP 3.6L Flat 6 Cylinder Engine Gasoline Fuel'\n",
      " '217.0HP 4.6L 8 Cylinder Engine Gasoline Fuel'\n",
      " '156.0HP 2.3L 4 Cylinder Engine Gasoline Fuel'\n",
      " '296.0HP 2.0L 4 Cylinder Engine Gasoline/Mild Electric Hybrid'\n",
      " '3.9L V8 32V GDI DOHC Twin Turbo'\n",
      " '248.0HP 2.0L 4 Cylinder Engine Gasoline/Mild Electric Hybrid'\n",
      " '450.0HP 3.0L Flat 6 Cylinder Engine Gasoline Fuel'\n",
      " '200.0HP 4.3L V6 Cylinder Engine Gasoline Fuel'\n",
      " '245.0HP 3.5L V6 Cylinder Engine Gas/Electric Hybrid'\n",
      " '5.2L V10 40V GDI DOHC' '262.0HP 3.5L V6 Cylinder Engine Gasoline Fuel'\n",
      " '3.8L V8 32V GDI DOHC Twin Turbo'\n",
      " '175.0HP 3.9L V6 Cylinder Engine Gasoline Fuel'\n",
      " '342.0HP 6.0L 8 Cylinder Engine Flex Fuel Capability'\n",
      " '284.0HP 3.5L V6 Cylinder Engine Gasoline Fuel'\n",
      " '197.0HP 3.8L V6 Cylinder Engine Gasoline Fuel'\n",
      " '270.0HP 3.2L V6 Cylinder Engine Gasoline Fuel'\n",
      " '670.0HP 5.5L 8 Cylinder Engine Gasoline Fuel'\n",
      " '405.0HP 5.7L 8 Cylinder Engine Gasoline Fuel'\n",
      " '261.0HP 2.0L 4 Cylinder Engine Gasoline Fuel'\n",
      " '186.0HP 2.0L 4 Cylinder Engine Gasoline Fuel'\n",
      " '425.0HP 4.7L 8 Cylinder Engine Gasoline Fuel'\n",
      " '4.4L V8 32V GDI DOHC Twin Turbo'\n",
      " '197.0HP 1.6L 4 Cylinder Engine Gasoline Fuel'\n",
      " '483.0HP 4.3L 8 Cylinder Engine Gasoline Fuel'\n",
      " '430.0HP 7.3L 8 Cylinder Engine Gasoline Fuel'\n",
      " '375.0HP 2.9L V6 Cylinder Engine Gasoline Fuel'\n",
      " '109.0HP 1.6L 4 Cylinder Engine Gasoline Fuel'\n",
      " '300.0HP 4.6L 8 Cylinder Engine Gasoline Fuel'\n",
      " '2.7L V6 24V PDI DOHC Twin Turbo' '6.7L I6 24V DDI OHV Turbo Diesel'\n",
      " '285.0HP 4.8L 8 Cylinder Engine Gasoline Fuel'\n",
      " '225.0HP 4.6L 8 Cylinder Engine Gasoline Fuel'\n",
      " '231.0HP 2.0L 4 Cylinder Engine Gasoline Fuel'\n",
      " '3.8L V6 24V MPFI DOHC Twin Turbo'\n",
      " '390.0HP 6.0L 8 Cylinder Engine Gasoline Fuel' '6.6L V8 16V GDI OHV'\n",
      " '305.0HP 5.7L 8 Cylinder Engine Gasoline Fuel'\n",
      " '120.0HP 2.5L 4 Cylinder Engine Gasoline Fuel'\n",
      " '190.0HP 2.3L 4 Cylinder Engine Gasoline Fuel'\n",
      " '215.0HP 1.6L 4 Cylinder Engine Gasoline Fuel'\n",
      " '348.0HP 3.0L V6 Cylinder Engine Gasoline Fuel'\n",
      " '252.0HP 3.9L 8 Cylinder Engine Gasoline Fuel'\n",
      " '316.0HP 6.2L 8 Cylinder Engine Flex Fuel Capability'\n",
      " '302.0HP 2.5L 4 Cylinder Engine Plug-In Electric/Gas'\n",
      " '132.0HP 2.0L 4 Cylinder Engine Gasoline Fuel'\n",
      " '473.0HP 3.0L Flat 6 Cylinder Engine Gasoline Fuel'\n",
      " '255.0HP 3.0L Straight 6 Cylinder Engine Gasoline Fuel'\n",
      " '120.0HP 1.6L 4 Cylinder Engine Gasoline Fuel' '5.0L 8 Cylinder'\n",
      " '170.0HP 2.0L 4 Cylinder Engine Gasoline Fuel'\n",
      " '324.0HP 6.0L 8 Cylinder Engine Flex Fuel Capability'\n",
      " '170.0HP 3.3L V6 Cylinder Engine Gasoline Fuel'\n",
      " '443.0HP 3.0L Flat 6 Cylinder Engine Gasoline Fuel'\n",
      " '493.0HP 5.5L 12 Cylinder Engine Gasoline Fuel'\n",
      " '172.0HP 2.4L 4 Cylinder Engine Gas/Electric Hybrid'\n",
      " '308.0HP 3.6L V6 Cylinder Engine Flex Fuel Capability'\n",
      " '101.0HP 1.4L 4 Cylinder Engine Gasoline Fuel'\n",
      " '430.0HP 3.5L V6 Cylinder Engine Gas/Electric Hybrid'\n",
      " '400.0HP 3.6L V6 Cylinder Engine Gasoline Fuel'\n",
      " '170.0HP 1.5L 4 Cylinder Engine Gasoline Fuel'\n",
      " '247.0HP 2.0L 4 Cylinder Engine Gasoline/Mild Electric Hybrid'\n",
      " '173.0HP 2.5L 4 Cylinder Engine Gasoline Fuel'\n",
      " '300.0HP 2.3L 4 Cylinder Engine Gasoline Fuel'\n",
      " '261.0HP 2.0L 4 Cylinder Engine Gasoline/Mild Electric Hybrid'\n",
      " '325.0HP 2.9L V6 Cylinder Engine Gasoline Fuel'\n",
      " '322.0HP 2.0L 4 Cylinder Engine Plug-In Electric/Gas'\n",
      " '255.0HP 3.6L V6 Cylinder Engine Gasoline Fuel'\n",
      " '318.0HP 3.3L V6 Cylinder Engine Gas/Electric Hybrid'\n",
      " '126.0HP 1.8L 4 Cylinder Engine Gasoline Fuel'\n",
      " '638.0HP 6.2L 8 Cylinder Engine Gasoline Fuel'\n",
      " '200.0HP 2.2L 4 Cylinder Engine Gasoline Fuel'\n",
      " '244.0HP 3.5L V6 Cylinder Engine Gasoline Fuel'\n",
      " '710.0HP 4.0L 8 Cylinder Engine Gasoline Fuel'\n",
      " '182.0HP Electric Motor Hydrogen Fuel'\n",
      " '154.0HP 2.7L 5 Cylinder Engine Diesel Fuel'\n",
      " '456.0HP 4.4L 8 Cylinder Engine Gasoline Fuel'\n",
      " '192.0HP 1.5L 4 Cylinder Engine Gasoline Fuel'\n",
      " '230.0HP 3.2L Straight 6 Cylinder Engine Gasoline Fuel'\n",
      " '212.0HP 1.5L 4 Cylinder Engine Plug-In Electric/Gas'\n",
      " '335.0HP 6.6L 8 Cylinder Engine Diesel Fuel'\n",
      " '182.0HP 4.0L 8 Cylinder Engine Gasoline Fuel'\n",
      " '305.0HP 3.6L V6 Cylinder Engine Gasoline/Mild Electric Hybrid'\n",
      " '2.5L 4 Cylinder Engine Gasoline Fuel'\n",
      " '355.0HP 3.0L Straight 6 Cylinder Engine Gasoline/Mild Electric Hybrid'\n",
      " '640.0HP 3.8L Flat 6 Cylinder Engine Gasoline Fuel'\n",
      " '245.0HP 2.0L 4 Cylinder Engine Gasoline Fuel'\n",
      " '260.0HP 3.0L V6 Cylinder Engine Diesel Fuel' '3.5L V6 24V MPFI DOHC'\n",
      " '287.0HP 3.6L V6 Cylinder Engine Gasoline Fuel'\n",
      " '181.0HP 1.5L 3 Cylinder Engine Gasoline Fuel'\n",
      " '143.0HP 1.8L 4 Cylinder Engine Gasoline Fuel' '2.5L I4 16V'\n",
      " '602.0HP 3.9L 8 Cylinder Engine Gasoline Fuel'\n",
      " '400.0HP 6.7L 8 Cylinder Engine Diesel Fuel'\n",
      " '180.0HP 2.0L 4 Cylinder Engine Gasoline Fuel'\n",
      " '363.0HP 5.7L 8 Cylinder Engine Gasoline Fuel'\n",
      " '292.0HP 4.6L 8 Cylinder Engine Gasoline Fuel'\n",
      " '168.0HP 1.6L 4 Cylinder Engine Gasoline Fuel'\n",
      " '380.0HP 5.4L 8 Cylinder Engine Gasoline Fuel'\n",
      " '178.0HP 1.8L 4 Cylinder Engine Gasoline Fuel'\n",
      " '605.0HP 5.7L 10 Cylinder Engine Gasoline Fuel' '6.2L V8 32V MPFI DOHC'\n",
      " '270.0HP 2.3L 4 Cylinder Engine Gasoline Fuel'\n",
      " '147.0HP 1.4L 4 Cylinder Engine Gasoline Fuel'\n",
      " '473.0HP 3.0L Straight 6 Cylinder Engine Gasoline Fuel'\n",
      " '390.0HP 4.6L 8 Cylinder Engine Gasoline Fuel'\n",
      " '225.0HP 4.6L 8 Cylinder Engine Flex Fuel Capability'\n",
      " '510.0HP 5.5L 12 Cylinder Engine Gasoline Fuel'\n",
      " '543.0HP 5.5L 12 Cylinder Engine Gasoline Fuel'\n",
      " '230.0HP 5.2L 8 Cylinder Engine Gasoline Fuel'\n",
      " '580.0HP 3.8L Flat 6 Cylinder Engine Gasoline Fuel'\n",
      " '278.0HP 4.3L 8 Cylinder Engine Gasoline Fuel'\n",
      " '308.0HP 3.6L V6 Cylinder Engine Gasoline Fuel'\n",
      " '150.0HP 2.7L 4 Cylinder Engine Gasoline Fuel'\n",
      " '200.0HP 3.0L V6 Cylinder Engine Gasoline Fuel'\n",
      " '1.6L I4 16V GDI DOHC Turbo' '1.5L I3 12V GDI DOHC Turbo'\n",
      " '300.0HP 2.5L 5 Cylinder Engine Gasoline Fuel'\n",
      " '379.0HP 3.0L Flat 6 Cylinder Engine Gasoline Fuel'\n",
      " '265.0HP 3.0L V6 Cylinder Engine Gasoline Fuel'\n",
      " '250.0HP 5.9L Straight 6 Cylinder Engine Diesel Fuel'\n",
      " '444.0HP 3.0L Straight 6 Cylinder Engine Gasoline Fuel'\n",
      " '303.0HP 3.6L V6 Cylinder Engine Gasoline Fuel'\n",
      " '320.0HP 3.6L Flat 6 Cylinder Engine Gasoline Fuel'\n",
      " '325.0HP 5.7L 8 Cylinder Engine Gasoline Fuel'\n",
      " '502.0HP 4.0L Flat 6 Cylinder Engine Gasoline Fuel'\n",
      " '430.0HP 4.7L 8 Cylinder Engine Gasoline Fuel'\n",
      " '395.0HP 6.0L 8 Cylinder Engine Gasoline Fuel'\n",
      " '266.0HP 4.0L V6 Cylinder Engine Gasoline Fuel'\n",
      " '395.0HP 5.0L 8 Cylinder Engine Flex Fuel Capability'\n",
      " '470.0HP 6.4L 8 Cylinder Engine Gasoline Fuel'\n",
      " '261.0HP 1.6L 4 Cylinder Engine Plug-In Electric/Gas'\n",
      " '550.0HP 4.8L 8 Cylinder Engine Gasoline Fuel'\n",
      " '440.0HP 3.6L V6 Cylinder Engine Gasoline Fuel'\n",
      " '471.0HP 6.4L 8 Cylinder Engine Gasoline Fuel'\n",
      " '156.0HP 2.5L 4 Cylinder Engine Gas/Electric Hybrid'\n",
      " '212.0HP 2.0L 4 Cylinder Engine Gas/Electric Hybrid'\n",
      " '550.0HP 5.0L 8 Cylinder Engine Flex Fuel Capability'\n",
      " '2.5L H4 16V MPFI DOHC' '650.0HP 5.8L 8 Cylinder Engine Gasoline Fuel'\n",
      " '450.0HP 4.5L 8 Cylinder Engine Gasoline Fuel'\n",
      " '2.4L H4 16V GDI DOHC Turbo'\n",
      " '469.0HP 5.4L 8 Cylinder Engine Gasoline Fuel'\n",
      " '402.0HP 4.6L 8 Cylinder Engine Gasoline Fuel'\n",
      " '109.0HP 1.5L 4 Cylinder Engine Gasoline Fuel'\n",
      " '271.0HP 3.5L V6 Cylinder Engine Gasoline Fuel'\n",
      " '260.0HP 5.4L 8 Cylinder Engine Gasoline Fuel'\n",
      " '702.0HP 6.2L 8 Cylinder Engine Gasoline Fuel'\n",
      " '276.0HP 3.6L V6 Cylinder Engine Gasoline Fuel'\n",
      " '369.0HP 3.0L Straight 6 Cylinder Engine Gasoline/Mild Electric Hybrid'\n",
      " '518.0HP 6.2L 8 Cylinder Engine Gasoline Fuel'\n",
      " '2.0L I4 16V GDI DOHC Turbo Hybrid'\n",
      " '282.0HP 3.5L V6 Cylinder Engine Flex Fuel Capability'\n",
      " '225.0HP 1.8L 4 Cylinder Engine Gasoline Fuel'\n",
      " '360.0HP 6.6L 8 Cylinder Engine Diesel Fuel'\n",
      " '660.0HP 3.9L 8 Cylinder Engine Gasoline Fuel'\n",
      " '240.0HP 2.5L 4 Cylinder Engine Gas/Electric Hybrid'\n",
      " '500.0HP 5.4L 8 Cylinder Engine Gasoline Fuel'\n",
      " '174.0HP 1.5L 4 Cylinder Engine Gasoline Fuel'\n",
      " '280.0HP 2.8L V6 Cylinder Engine Gasoline Fuel'\n",
      " '285.0HP 5.3L 8 Cylinder Engine Gasoline Fuel'\n",
      " '271.0HP 2.4L 4 Cylinder Engine Gasoline Fuel'\n",
      " '6.0L W12 48V PDI DOHC Twin Turbo'\n",
      " '430.0HP 3.8L Flat 6 Cylinder Engine Gasoline Fuel'\n",
      " '341.0HP 6.0L 8 Cylinder Engine Flex Fuel Capability'\n",
      " '158.0HP 2.4L 4 Cylinder Engine Gasoline Fuel'\n",
      " '245.0HP 2.5L 4 Cylinder Engine Gas/Electric Hybrid'\n",
      " '300.0HP 5.7L 8 Cylinder Engine Gasoline Fuel'\n",
      " '444.0HP 5.0L 8 Cylinder Engine Gasoline Fuel'\n",
      " '340.0HP 3.0L V6 Cylinder Engine Flex Fuel Capability'\n",
      " '4.0L V6 24V MPFI DOHC' '222.0HP 3.0L V6 Cylinder Engine Gasoline Fuel'\n",
      " '250.0HP 2.5L 5 Cylinder Engine Gasoline Fuel'\n",
      " '729.0HP 6.5L 12 Cylinder Engine Gasoline Fuel'\n",
      " '335.0HP 5.7L 8 Cylinder Engine Gasoline Fuel'\n",
      " '305.0HP 5.6L 8 Cylinder Engine Gasoline Fuel'\n",
      " '180.0HP 3.4L V6 Cylinder Engine Gasoline Fuel'\n",
      " '285.0HP 5.7L 8 Cylinder Engine Gasoline Fuel'\n",
      " '179.0HP 1.5L 4 Cylinder Engine Gasoline Fuel'\n",
      " '255.0HP 4.8L 8 Cylinder Engine Gasoline Fuel'\n",
      " '151.0HP Electric Motor Hydrogen Fuel'\n",
      " '270.0HP 4.8L 8 Cylinder Engine Gasoline Fuel'\n",
      " '177.0HP 2.4L 4 Cylinder Engine Gasoline Fuel'\n",
      " '160.0HP 1.4L 4 Cylinder Engine Gasoline Fuel'\n",
      " '303.0HP 3.7L V6 Cylinder Engine Gasoline Fuel'\n",
      " '1.4L I4 16V GDI DOHC Turbo'\n",
      " '572.0HP 3.8L Flat 6 Cylinder Engine Gasoline Fuel'\n",
      " '245.0HP 5.9L Straight 6 Cylinder Engine Diesel Fuel'\n",
      " '562.0HP 5.2L 10 Cylinder Engine Gasoline Fuel'\n",
      " '305.0HP 6.8L 10 Cylinder Engine Gasoline Fuel'\n",
      " '300.0HP 3.4L Flat 6 Cylinder Engine Gasoline Fuel'\n",
      " '355.0HP 6.0L 8 Cylinder Engine Gasoline Fuel'\n",
      " '4.0L V8 32V MPFI DOHC Twin Turbo'\n",
      " '235.0HP 4.7L 8 Cylinder Engine Flex Fuel Capability'\n",
      " '182.0HP 2.4L 4 Cylinder Engine Gasoline/Mild Electric Hybrid'\n",
      " '212.0HP 1.3L Rotary engine Gasoline Fuel'\n",
      " '148.0HP 3.0L V6 Cylinder Engine Gasoline Fuel'\n",
      " '134.0HP 1.8L 4 Cylinder Engine Plug-In Electric/Gas'\n",
      " '362.0HP 5.4L 8 Cylinder Engine Gasoline Fuel'\n",
      " '281.0HP 2.5L 4 Cylinder Engine Gasoline Fuel'\n",
      " '139.0HP 1.6L 4 Cylinder Engine Gas/Electric Hybrid'\n",
      " '224.0HP 2.5L 4 Cylinder Engine Gasoline Fuel'\n",
      " '221.0HP 2.5L 4 Cylinder Engine Plug-In Electric/Gas'\n",
      " '540.0HP 5.4L 8 Cylinder Engine Gasoline Fuel'\n",
      " '602.0HP 5.2L 10 Cylinder Engine Gasoline Fuel'\n",
      " '176.0HP 2.5L 4 Cylinder Engine Gasoline Fuel'\n",
      " '200.0HP 1.6L 4 Cylinder Engine Gasoline Fuel'\n",
      " '227.0HP 2.0L 4 Cylinder Engine Gasoline Fuel'\n",
      " '201.0HP 2.0L 4 Cylinder Engine Gasoline/Mild Electric Hybrid'\n",
      " '242.0HP 3.3L V6 Cylinder Engine Gasoline Fuel'\n",
      " '355.0HP 2.0L 4 Cylinder Engine Gasoline Fuel'\n",
      " '400.0HP 5.0L 8 Cylinder Engine Gasoline Fuel'\n",
      " '211.0HP 2.0L 4 Cylinder Engine Diesel Fuel'\n",
      " '169.0HP 2.5L 4 Cylinder Engine Flex Fuel Capability'\n",
      " '136.0HP 1.8L 4 Cylinder Engine Gasoline Fuel'\n",
      " '270.0HP 2.0L 4 Cylinder Engine Gasoline Fuel']\n",
      "transmission:['6-Speed A/T' '8-Speed Automatic' '7-Speed A/T' 'A/T' '8-Speed A/T'\n",
      " 'Transmission w/Dual Shift Mode' '9-Speed Automatic' '6-Speed M/T'\n",
      " 'Automatic' '10-Speed A/T' '9-Speed A/T' '5-Speed A/T'\n",
      " '6-Speed Automatic with Auto-Shift' 'M/T' 'CVT Transmission'\n",
      " '4-Speed A/T' '6-Speed Automatic' '4-Speed Automatic' 'Automatic CVT'\n",
      " '8-Speed Automatic with Auto-Shift' '7-Speed Automatic with Auto-Shift'\n",
      " '5-Speed M/T' '7-Speed Manual' '10-Speed Automatic' '6-Speed Manual'\n",
      " 'Transmission Overdrive Switch' '7-Speed Automatic' '–'\n",
      " '5-Speed Automatic' '7-Speed' '7-Speed M/T' '7-Speed DCT Automatic']\n",
      "ext_col:['Black' 'Moonlight Cloud' 'Blue' 'Green' 'Silver' 'Yellow' 'White' 'Gray'\n",
      " 'Purple' 'Iconic Silver Metallic' 'Mythos Black Metallic' 'Red' 'Gold'\n",
      " 'Horizon Blue' 'Orange' 'Beige' 'Summit White' 'Bright White Clearcoat'\n",
      " 'Crystal Black Silica' 'Ultra Black' 'Lunare White Metallic' 'Hyper Red'\n",
      " 'Vik Black' 'Sonic Silver Metallic' 'Patriot Blue Pearlcoat'\n",
      " 'Black Cherry' 'Blu' 'Beluga Black' 'Brown' 'Cobra Beige Metallic'\n",
      " 'Anodized Blue Metallic' 'Delmonico Red Pearlcoat' '–' 'Black Clearcoat'\n",
      " 'Machine Gray Metallic' 'Twilight Black' 'Diamond Black' 'Maroon'\n",
      " 'Firecracker Red Clearcoat' 'Onyx' 'Santorini Black'\n",
      " 'Mosaic Black Metallic' 'Deep Black Pearl Effect'\n",
      " 'Polymetal Gray Metallic' 'Jet Black Mica' 'Dark Gray Metallic'\n",
      " 'Isle of Man Green Metallic' 'Volcano Grey Metallic' 'Redline Red'\n",
      " 'Sandstone Metallic' 'Tan' 'Silver Zynith' 'Velvet Red Pearlcoat' 'Pink'\n",
      " 'Black Obsidian' 'Midnight Blue Metallic' 'Matte White'\n",
      " 'Iridium Metallic' 'Magnetic Black' 'Pacific Blue'\n",
      " 'White Diamond Tri-Coat' 'Dark Matter Metallic' 'Diamond White' 'Tempest'\n",
      " 'Tango Red Metallic' 'Majestic Plum Metallic' 'Dark Moon Blue Metallic'\n",
      " 'Manhattan Noir Metallic' 'Nebula Gray Pearl' 'Onyx Black' 'Frozen White'\n",
      " 'Shadow Black' 'Sting Gray Clearcoat' 'Maximum Steel Metallic'\n",
      " 'Carbonized Gray Metallic' 'Atomic Silver' 'Crimson Red Tintcoat'\n",
      " 'Billet Silver Metallic Clearcoat' 'Iridescent Pearl Tricoat'\n",
      " 'Nero Daytona' 'Rich Garnet Metallic' 'Nero Noctis'\n",
      " 'Ebony Twilight Metallic' 'Blue Reflex Mica' 'Eiger Grey'\n",
      " 'Granite Crystal Clearcoat Metallic' 'Dark Slate Metallic'\n",
      " 'Agate Black Metallic' 'Stone Gray Metallic' 'Bayside Blue'\n",
      " 'Silver Ice Metallic' 'Siren Red Tintcoat' 'Shadow Gray Metallic'\n",
      " 'Satin Steel Metallic' 'Red Quartz Tintcoat' 'Carrara White Metallic'\n",
      " 'Soul Red Crystal Metallic' 'DB Black Clearcoat'\n",
      " 'Iridium Silver Metallic' 'White Frost Tri-Coat' 'Glacial White Pearl'\n",
      " 'Cajun Red Tintcoat' 'Alpine White' 'Ember Pearlcoat'\n",
      " 'Twilight Blue Metallic' 'Burnished Bronze Metallic'\n",
      " 'Ice Silver Metallic' 'Hellayella Clearcoat' 'Snowflake White Pearl'\n",
      " 'China Blue' 'White Knuckle Clearcoat' 'Nautical Blue Pearl'\n",
      " 'Tungsten Metallic' 'Magnetic Metallic' 'Kinetic Blue'\n",
      " 'Black Sapphire Metallic' 'Brilliant Silver Metallic'\n",
      " 'Glacier Silver Metallic' 'Nightfall Gray Metallic' 'C / C']\n",
      "int_col:['Black' 'Gray' 'Green' 'Brown' 'White' '–' 'Beige' 'Jet Black' 'Red'\n",
      " 'Blue' 'Charcoal' 'Medium Pewter' 'Ice' 'Obsidian Black' 'Orange' 'Nero'\n",
      " 'Sahara Tan' 'Ebony' 'Hotspur' 'Nougat Brown' 'Navy Pier' 'Grace White'\n",
      " 'Mesa' 'Medium Dark Slate' 'Gold' 'Charles Blue' 'Portland'\n",
      " 'Medium Light Camel' 'Black / Saddle' 'Ebony / Pimento'\n",
      " 'Mistral Gray / Raven' 'Silver' 'Medium Stone' 'Kyalami Orange' 'Boulder'\n",
      " 'Charcoal Black' 'Dark Auburn' 'Diesel Gray / Black' 'Global Black'\n",
      " 'Black / Brown' 'Black / Stone Grey' 'Graphite' 'Nero Ade' 'Tan'\n",
      " 'Saddle Brown' 'Light Titanium' 'Dark Gray' 'Platinum' 'Shale'\n",
      " 'Black Onyx' 'Sandstone' 'Cobalt Blue' 'Deep Cypress' 'Ceramic'\n",
      " 'Light Platinum / Jet Black' 'Dark Galvanized' 'Shara Beige' 'Rioja Red'\n",
      " 'Yellow' 'Light Slate' 'Brandy' 'Titan Black / Quarzit' 'Chestnut'\n",
      " 'Medium Earth Gray' 'Red / Black' 'Ebony Black' 'Deep Garnet'\n",
      " 'Ebony / Ebony Accents' 'Sport' 'Medium Ash Gray' 'White / Brown'\n",
      " 'Hotspur Hide' 'Canberra Beige' 'Deep Chestnut']\n"
     ]
    }
   ],
   "source": [
    "# loop over all the columns where dtypes is object then print the columns name and there unique values -\n",
    "\n",
    "for col in car_price.select_dtypes(include=['object']).columns:\n",
    "    print(f\"{col}:{car_price[col].unique()}\")"
   ]
  },
  {
   "cell_type": "code",
   "execution_count": 17,
   "id": "d8c26380",
   "metadata": {},
   "outputs": [
    {
     "data": {
      "text/html": [
       "<div>\n",
       "<style scoped>\n",
       "    .dataframe tbody tr th:only-of-type {\n",
       "        vertical-align: middle;\n",
       "    }\n",
       "\n",
       "    .dataframe tbody tr th {\n",
       "        vertical-align: top;\n",
       "    }\n",
       "\n",
       "    .dataframe thead th {\n",
       "        text-align: right;\n",
       "    }\n",
       "</style>\n",
       "<table border=\"1\" class=\"dataframe\">\n",
       "  <thead>\n",
       "    <tr style=\"text-align: right;\">\n",
       "      <th></th>\n",
       "      <th>brand</th>\n",
       "      <th>model</th>\n",
       "      <th>model_year</th>\n",
       "      <th>engine</th>\n",
       "      <th>transmission</th>\n",
       "      <th>ext_col</th>\n",
       "      <th>int_col</th>\n",
       "      <th>prices</th>\n",
       "      <th>milages</th>\n",
       "    </tr>\n",
       "  </thead>\n",
       "  <tbody>\n",
       "    <tr>\n",
       "      <th>0</th>\n",
       "      <td>14</td>\n",
       "      <td>1481</td>\n",
       "      <td>2013</td>\n",
       "      <td>492</td>\n",
       "      <td>7</td>\n",
       "      <td>8</td>\n",
       "      <td>1</td>\n",
       "      <td>10300</td>\n",
       "      <td>51000</td>\n",
       "    </tr>\n",
       "    <tr>\n",
       "      <th>1</th>\n",
       "      <td>19</td>\n",
       "      <td>1011</td>\n",
       "      <td>2021</td>\n",
       "      <td>478</td>\n",
       "      <td>20</td>\n",
       "      <td>69</td>\n",
       "      <td>32</td>\n",
       "      <td>38005</td>\n",
       "      <td>34742</td>\n",
       "    </tr>\n",
       "    <tr>\n",
       "      <th>3</th>\n",
       "      <td>20</td>\n",
       "      <td>1055</td>\n",
       "      <td>2015</td>\n",
       "      <td>630</td>\n",
       "      <td>13</td>\n",
       "      <td>8</td>\n",
       "      <td>1</td>\n",
       "      <td>15500</td>\n",
       "      <td>88900</td>\n",
       "    </tr>\n",
       "    <tr>\n",
       "      <th>6</th>\n",
       "      <td>3</td>\n",
       "      <td>1235</td>\n",
       "      <td>2017</td>\n",
       "      <td>442</td>\n",
       "      <td>7</td>\n",
       "      <td>14</td>\n",
       "      <td>1</td>\n",
       "      <td>31000</td>\n",
       "      <td>84000</td>\n",
       "    </tr>\n",
       "    <tr>\n",
       "      <th>7</th>\n",
       "      <td>4</td>\n",
       "      <td>119</td>\n",
       "      <td>2001</td>\n",
       "      <td>415</td>\n",
       "      <td>24</td>\n",
       "      <td>47</td>\n",
       "      <td>33</td>\n",
       "      <td>7300</td>\n",
       "      <td>242000</td>\n",
       "    </tr>\n",
       "  </tbody>\n",
       "</table>\n",
       "</div>"
      ],
      "text/plain": [
       "   brand  model  model_year  engine  transmission  ext_col  int_col  prices  \\\n",
       "0     14   1481        2013     492             7        8        1   10300   \n",
       "1     19   1011        2021     478            20       69       32   38005   \n",
       "3     20   1055        2015     630            13        8        1   15500   \n",
       "6      3   1235        2017     442             7       14        1   31000   \n",
       "7      4    119        2001     415            24       47       33    7300   \n",
       "\n",
       "   milages  \n",
       "0    51000  \n",
       "1    34742  \n",
       "3    88900  \n",
       "6    84000  \n",
       "7   242000  "
      ]
     },
     "execution_count": 17,
     "metadata": {},
     "output_type": "execute_result"
    }
   ],
   "source": [
    "for i in car_price.columns:\n",
    "    if car_price[i].dtypes == \"object\":\n",
    "        car_price[i] = le.fit_transform(car_price[i].values.reshape(-1,1))\n",
    "car_price.head() "
   ]
  },
  {
   "cell_type": "markdown",
   "id": "1f2401da",
   "metadata": {},
   "source": [
    "-  we have encoded the categorical data by using label encoder and turn all the columns into numeric data."
   ]
  },
  {
   "cell_type": "markdown",
   "id": "98dc7fc9",
   "metadata": {},
   "source": [
    "#### CORRELATION MATRIX"
   ]
  },
  {
   "cell_type": "code",
   "execution_count": 18,
   "id": "a886842b",
   "metadata": {},
   "outputs": [
    {
     "data": {
      "text/plain": [
       "<AxesSubplot:>"
      ]
     },
     "execution_count": 18,
     "metadata": {},
     "output_type": "execute_result"
    },
    {
     "data": {
      "image/png": "[encoded data removed]",
      "text/plain": [
       "<Figure size 1200x1000 with 2 Axes>"
      ]
     },
     "metadata": {},
     "output_type": "display_data"
    }
   ],
   "source": [
    "#Plotting the correlation of columns\n",
    "Correlation=car_price.corr()\n",
    "\n",
    "plt.figure(figsize=[12,10])\n",
    "sns.heatmap(Correlation,annot = True, fmt = '0.2f',cmap='BuPu')"
   ]
  },
  {
   "cell_type": "code",
   "execution_count": 19,
   "id": "b2e9e108",
   "metadata": {},
   "outputs": [
    {
     "name": "stdout",
     "output_type": "stream",
     "text": [
      "engine          0.274638\n",
      "model_year      0.183538\n",
      "int_col         0.047320\n",
      "transmission    0.034093\n",
      "brand           0.028790\n",
      "ext_col         0.017990\n",
      "model          -0.028206\n",
      "milages        -0.285901\n",
      "Name: prices, dtype: float64\n"
     ]
    },
    {
     "data": {
      "image/png": "[encoded data removed]",
      "text/plain": [
       "<Figure size 1200x700 with 1 Axes>"
      ]
     },
     "metadata": {},
     "output_type": "display_data"
    }
   ],
   "source": [
    "print(Correlation['prices'].drop('prices').sort_values(ascending = False))\n",
    "plt.figure(figsize = [12,7])\n",
    "Correlation['prices'].sort_values(ascending= False).drop('prices').plot(kind = 'bar', color ='red')\n",
    "plt.xlabel('Column Names', fontsize = 12)\n",
    "plt.ylabel('Correlation', fontsize = 12)\n",
    "plt.title('Correlation with Target Column')\n",
    "plt.show()"
   ]
  },
  {
   "cell_type": "markdown",
   "id": "20243ea7",
   "metadata": {},
   "source": [
    "-  Car engine has the highest positive correlation among any other feature.On the other hand milages has highest negative correlation.\n",
    "-  milage , engine, price are highly corrleated to each other."
   ]
  },
  {
   "cell_type": "markdown",
   "id": "26630ed5",
   "metadata": {},
   "source": [
    "#### CHECKING SKEWNESS"
   ]
  },
  {
   "cell_type": "code",
   "execution_count": 20,
   "id": "ed72812a",
   "metadata": {},
   "outputs": [
    {
     "data": {
      "text/plain": [
       "model_year      -0.947307\n",
       "transmission    -0.434564\n",
       "engine          -0.161163\n",
       "model            0.103168\n",
       "ext_col          0.117986\n",
       "brand            0.357837\n",
       "milages          1.026133\n",
       "int_col          1.576646\n",
       "prices          20.245614\n",
       "dtype: float64"
      ]
     },
     "execution_count": 20,
     "metadata": {},
     "output_type": "execute_result"
    }
   ],
   "source": [
    "skewness=car_price.skew()\n",
    "skewness.sort_values(ascending=True)"
   ]
  },
  {
   "cell_type": "markdown",
   "id": "9bc36159",
   "metadata": {},
   "source": [
    "-  Data is skewed, model_year, milage, are skewed.\n",
    "- Although, fuel_type,int_col,transmission are categorical in nature. So the skewness of these columns are irrelevant."
   ]
  },
  {
   "cell_type": "code",
   "execution_count": 21,
   "id": "a71d4a07",
   "metadata": {},
   "outputs": [
    {
     "data": {
      "image/png": "[encoded data removed]",
      "text/plain": [
       "<Figure size 1800x1000 with 9 Axes>"
      ]
     },
     "metadata": {},
     "output_type": "display_data"
    }
   ],
   "source": [
    "plt.figure(figsize=(18,10))\n",
    "plot=1\n",
    "for col in car_price.columns:\n",
    "    if plot<= 25:\n",
    "        plt.subplot(6,5,plot)\n",
    "        sns.boxplot(car_price[col],color='purple')\n",
    "        plt.xlabel(col)\n",
    "        plot=plot+1\n",
    "plt.tight_layout()"
   ]
  },
  {
   "cell_type": "markdown",
   "id": "24600663",
   "metadata": {},
   "source": [
    "-   model year, milages, price have some outliers. We will remove them so that our data will fit properly when doing modeling .\n"
   ]
  },
  {
   "cell_type": "code",
   "execution_count": 22,
   "id": "3b5ac1f6",
   "metadata": {},
   "outputs": [],
   "source": [
    "for i in ['model_year','milages','prices',]:\n",
    "#finding quartile values    \n",
    "  Q1=np.percentile(car_price[i],25,interpolation='midpoint')\n",
    "  Q2=np.percentile(car_price[i],50,interpolation='midpoint')\n",
    "  Q3=np.percentile(car_price[i],75,interpolation='midpoint')\n",
    "#finding the IQR    \n",
    "  IQR=Q3-Q1    \n",
    "#finding upper and low limits    \n",
    "  lower_limit=Q1-1.5*IQR\n",
    "  upper_limit=Q3+1.5*IQR\n",
    "#finding outliers\n",
    "  car_price.loc[car_price[i]<lower_limit, i] = lower_limit\n",
    "  car_price.loc[car_price[i]>upper_limit, i] = upper_limit"
   ]
  },
  {
   "cell_type": "code",
   "execution_count": 23,
   "id": "3120adf0",
   "metadata": {
    "scrolled": true
   },
   "outputs": [
    {
     "data": {
      "image/png": "[encoded data removed]",
      "text/plain": [
       "<Figure size 640x480 with 1 Axes>"
      ]
     },
     "metadata": {},
     "output_type": "display_data"
    },
    {
     "data": {
      "image/png": "[encoded data removed]",
      "text/plain": [
       "<Figure size 640x480 with 1 Axes>"
      ]
     },
     "metadata": {},
     "output_type": "display_data"
    },
    {
     "data": {
      "image/png": "[encoded data removed]",
      "text/plain": [
       "<Figure size 640x480 with 1 Axes>"
      ]
     },
     "metadata": {},
     "output_type": "display_data"
    }
   ],
   "source": [
    "# compare the boxplot after removing outliers\n",
    "for i in ['model_year', 'milages','prices',]:\n",
    "    sns.boxplot(x=car_price[i])\n",
    "    plt.show()"
   ]
  },
  {
   "cell_type": "markdown",
   "id": "48fcd992",
   "metadata": {},
   "source": [
    "-  We removed all the outliers  using IQR method and now our data is statistically significant and help us to make good correlations."
   ]
  },
  {
   "cell_type": "markdown",
   "id": "4dfcd47f",
   "metadata": {},
   "source": [
    "#### Train/Test Split"
   ]
  },
  {
   "cell_type": "code",
   "execution_count": 24,
   "id": "d4982501",
   "metadata": {},
   "outputs": [
    {
     "name": "stdout",
     "output_type": "stream",
     "text": [
      "(3269, 8)\n",
      "(3269,)\n"
     ]
    }
   ],
   "source": [
    "#Splitting the data into 'x' and 'y' labels-\n",
    "X = car_price.drop('prices', axis=1)\n",
    "y = car_price['prices']\n",
    "\n",
    "print(X.shape)\n",
    "print(y.shape)\n"
   ]
  },
  {
   "cell_type": "code",
   "execution_count": 25,
   "id": "a1c84b90",
   "metadata": {},
   "outputs": [
    {
     "data": {
      "text/html": [
       "<div>\n",
       "<style scoped>\n",
       "    .dataframe tbody tr th:only-of-type {\n",
       "        vertical-align: middle;\n",
       "    }\n",
       "\n",
       "    .dataframe tbody tr th {\n",
       "        vertical-align: top;\n",
       "    }\n",
       "\n",
       "    .dataframe thead th {\n",
       "        text-align: right;\n",
       "    }\n",
       "</style>\n",
       "<table border=\"1\" class=\"dataframe\">\n",
       "  <thead>\n",
       "    <tr style=\"text-align: right;\">\n",
       "      <th></th>\n",
       "      <th>brand</th>\n",
       "      <th>model</th>\n",
       "      <th>model_year</th>\n",
       "      <th>engine</th>\n",
       "      <th>transmission</th>\n",
       "      <th>ext_col</th>\n",
       "      <th>int_col</th>\n",
       "      <th>prices</th>\n",
       "      <th>milages</th>\n",
       "    </tr>\n",
       "  </thead>\n",
       "  <tbody>\n",
       "    <tr>\n",
       "      <th>0</th>\n",
       "      <td>14</td>\n",
       "      <td>1481</td>\n",
       "      <td>2013</td>\n",
       "      <td>492</td>\n",
       "      <td>7</td>\n",
       "      <td>8</td>\n",
       "      <td>1</td>\n",
       "      <td>10300</td>\n",
       "      <td>51000</td>\n",
       "    </tr>\n",
       "    <tr>\n",
       "      <th>1</th>\n",
       "      <td>19</td>\n",
       "      <td>1011</td>\n",
       "      <td>2021</td>\n",
       "      <td>478</td>\n",
       "      <td>20</td>\n",
       "      <td>69</td>\n",
       "      <td>32</td>\n",
       "      <td>38005</td>\n",
       "      <td>34742</td>\n",
       "    </tr>\n",
       "    <tr>\n",
       "      <th>3</th>\n",
       "      <td>20</td>\n",
       "      <td>1055</td>\n",
       "      <td>2015</td>\n",
       "      <td>630</td>\n",
       "      <td>13</td>\n",
       "      <td>8</td>\n",
       "      <td>1</td>\n",
       "      <td>15500</td>\n",
       "      <td>88900</td>\n",
       "    </tr>\n",
       "    <tr>\n",
       "      <th>6</th>\n",
       "      <td>3</td>\n",
       "      <td>1235</td>\n",
       "      <td>2017</td>\n",
       "      <td>442</td>\n",
       "      <td>7</td>\n",
       "      <td>14</td>\n",
       "      <td>1</td>\n",
       "      <td>31000</td>\n",
       "      <td>84000</td>\n",
       "    </tr>\n",
       "    <tr>\n",
       "      <th>7</th>\n",
       "      <td>4</td>\n",
       "      <td>119</td>\n",
       "      <td>2001</td>\n",
       "      <td>415</td>\n",
       "      <td>24</td>\n",
       "      <td>47</td>\n",
       "      <td>33</td>\n",
       "      <td>7300</td>\n",
       "      <td>211200</td>\n",
       "    </tr>\n",
       "  </tbody>\n",
       "</table>\n",
       "</div>"
      ],
      "text/plain": [
       "   brand  model  model_year  engine  transmission  ext_col  int_col  prices  \\\n",
       "0     14   1481        2013     492             7        8        1   10300   \n",
       "1     19   1011        2021     478            20       69       32   38005   \n",
       "3     20   1055        2015     630            13        8        1   15500   \n",
       "6      3   1235        2017     442             7       14        1   31000   \n",
       "7      4    119        2001     415            24       47       33    7300   \n",
       "\n",
       "   milages  \n",
       "0    51000  \n",
       "1    34742  \n",
       "3    88900  \n",
       "6    84000  \n",
       "7   211200  "
      ]
     },
     "execution_count": 25,
     "metadata": {},
     "output_type": "execute_result"
    }
   ],
   "source": [
    "car_price.head()"
   ]
  },
  {
   "cell_type": "code",
   "execution_count": 26,
   "id": "d38d0e04",
   "metadata": {},
   "outputs": [
    {
     "name": "stdout",
     "output_type": "stream",
     "text": [
      "(2451, 8) (818, 8)\n",
      "(2451,) (818,)\n"
     ]
    }
   ],
   "source": [
    "from sklearn.model_selection import train_test_split\n",
    "\n",
    "#split the Dataset into train and test\n",
    "X_train,X_test,y_train,y_test= train_test_split(X,y,random_state=42,test_size=0.25)\n",
    "print(X_train.shape,X_test.shape)\n",
    "print(y_train.shape,y_test.shape)"
   ]
  },
  {
   "cell_type": "markdown",
   "id": "9d3a3620",
   "metadata": {},
   "source": [
    "-  Out of 3269 raws and 8 columns, we split our data into training and testing. We have  818 rows and 8 columns for testing and 2451 raws and 8 columns data for training. "
   ]
  },
  {
   "cell_type": "code",
   "execution_count": 27,
   "id": "fbbd2be8",
   "metadata": {},
   "outputs": [
    {
     "data": {
      "text/plain": [
       "0.0"
      ]
     },
     "execution_count": 27,
     "metadata": {},
     "output_type": "execute_result"
    }
   ],
   "source": [
    "# Checking the percentage of data loss \n",
    "\n",
    "data_loss = (car_price.shape[0]-car_price.shape[0])/car_price.shape[0]*100\n",
    "data_loss"
   ]
  },
  {
   "cell_type": "markdown",
   "id": "8ecba9d2",
   "metadata": {},
   "source": [
    "### APPLYING STANDARD SCALING BEFORE REMOVING SKEWNESS"
   ]
  },
  {
   "cell_type": "code",
   "execution_count": 28,
   "id": "582fbfd6",
   "metadata": {},
   "outputs": [
    {
     "name": "stdout",
     "output_type": "stream",
     "text": [
      "(3269, 8)\n",
      "(3269,)\n"
     ]
    }
   ],
   "source": [
    "x = X.copy()\n",
    "y = y.copy()\n",
    "z = x.columns\n",
    "print(x.shape)\n",
    "print(y.shape)"
   ]
  },
  {
   "cell_type": "code",
   "execution_count": 29,
   "id": "41a85767",
   "metadata": {},
   "outputs": [
    {
     "data": {
      "text/html": [
       "<div>\n",
       "<style scoped>\n",
       "    .dataframe tbody tr th:only-of-type {\n",
       "        vertical-align: middle;\n",
       "    }\n",
       "\n",
       "    .dataframe tbody tr th {\n",
       "        vertical-align: top;\n",
       "    }\n",
       "\n",
       "    .dataframe thead th {\n",
       "        text-align: right;\n",
       "    }\n",
       "</style>\n",
       "<table border=\"1\" class=\"dataframe\">\n",
       "  <thead>\n",
       "    <tr style=\"text-align: right;\">\n",
       "      <th></th>\n",
       "      <th>brand</th>\n",
       "      <th>model</th>\n",
       "      <th>model_year</th>\n",
       "      <th>engine</th>\n",
       "      <th>transmission</th>\n",
       "      <th>ext_col</th>\n",
       "      <th>int_col</th>\n",
       "      <th>milages</th>\n",
       "    </tr>\n",
       "  </thead>\n",
       "  <tbody>\n",
       "    <tr>\n",
       "      <th>0</th>\n",
       "      <td>14</td>\n",
       "      <td>1481</td>\n",
       "      <td>2013</td>\n",
       "      <td>492</td>\n",
       "      <td>7</td>\n",
       "      <td>8</td>\n",
       "      <td>1</td>\n",
       "      <td>51000</td>\n",
       "    </tr>\n",
       "    <tr>\n",
       "      <th>1</th>\n",
       "      <td>19</td>\n",
       "      <td>1011</td>\n",
       "      <td>2021</td>\n",
       "      <td>478</td>\n",
       "      <td>20</td>\n",
       "      <td>69</td>\n",
       "      <td>32</td>\n",
       "      <td>34742</td>\n",
       "    </tr>\n",
       "    <tr>\n",
       "      <th>3</th>\n",
       "      <td>20</td>\n",
       "      <td>1055</td>\n",
       "      <td>2015</td>\n",
       "      <td>630</td>\n",
       "      <td>13</td>\n",
       "      <td>8</td>\n",
       "      <td>1</td>\n",
       "      <td>88900</td>\n",
       "    </tr>\n",
       "    <tr>\n",
       "      <th>6</th>\n",
       "      <td>3</td>\n",
       "      <td>1235</td>\n",
       "      <td>2017</td>\n",
       "      <td>442</td>\n",
       "      <td>7</td>\n",
       "      <td>14</td>\n",
       "      <td>1</td>\n",
       "      <td>84000</td>\n",
       "    </tr>\n",
       "    <tr>\n",
       "      <th>7</th>\n",
       "      <td>4</td>\n",
       "      <td>119</td>\n",
       "      <td>2001</td>\n",
       "      <td>415</td>\n",
       "      <td>24</td>\n",
       "      <td>47</td>\n",
       "      <td>33</td>\n",
       "      <td>211200</td>\n",
       "    </tr>\n",
       "    <tr>\n",
       "      <th>...</th>\n",
       "      <td>...</td>\n",
       "      <td>...</td>\n",
       "      <td>...</td>\n",
       "      <td>...</td>\n",
       "      <td>...</td>\n",
       "      <td>...</td>\n",
       "      <td>...</td>\n",
       "      <td>...</td>\n",
       "    </tr>\n",
       "    <tr>\n",
       "      <th>4003</th>\n",
       "      <td>34</td>\n",
       "      <td>490</td>\n",
       "      <td>2018</td>\n",
       "      <td>292</td>\n",
       "      <td>24</td>\n",
       "      <td>8</td>\n",
       "      <td>1</td>\n",
       "      <td>53705</td>\n",
       "    </tr>\n",
       "    <tr>\n",
       "      <th>4004</th>\n",
       "      <td>5</td>\n",
       "      <td>431</td>\n",
       "      <td>2023</td>\n",
       "      <td>911</td>\n",
       "      <td>21</td>\n",
       "      <td>20</td>\n",
       "      <td>34</td>\n",
       "      <td>714</td>\n",
       "    </tr>\n",
       "    <tr>\n",
       "      <th>4005</th>\n",
       "      <td>3</td>\n",
       "      <td>1239</td>\n",
       "      <td>2022</td>\n",
       "      <td>620</td>\n",
       "      <td>30</td>\n",
       "      <td>8</td>\n",
       "      <td>1</td>\n",
       "      <td>10900</td>\n",
       "    </tr>\n",
       "    <tr>\n",
       "      <th>4007</th>\n",
       "      <td>14</td>\n",
       "      <td>594</td>\n",
       "      <td>2020</td>\n",
       "      <td>795</td>\n",
       "      <td>24</td>\n",
       "      <td>14</td>\n",
       "      <td>1</td>\n",
       "      <td>33000</td>\n",
       "    </tr>\n",
       "    <tr>\n",
       "      <th>4008</th>\n",
       "      <td>4</td>\n",
       "      <td>1524</td>\n",
       "      <td>2020</td>\n",
       "      <td>310</td>\n",
       "      <td>24</td>\n",
       "      <td>46</td>\n",
       "      <td>9</td>\n",
       "      <td>43000</td>\n",
       "    </tr>\n",
       "  </tbody>\n",
       "</table>\n",
       "<p>3269 rows × 8 columns</p>\n",
       "</div>"
      ],
      "text/plain": [
       "      brand  model  model_year  engine  transmission  ext_col  int_col  \\\n",
       "0        14   1481        2013     492             7        8        1   \n",
       "1        19   1011        2021     478            20       69       32   \n",
       "3        20   1055        2015     630            13        8        1   \n",
       "6         3   1235        2017     442             7       14        1   \n",
       "7         4    119        2001     415            24       47       33   \n",
       "...     ...    ...         ...     ...           ...      ...      ...   \n",
       "4003     34    490        2018     292            24        8        1   \n",
       "4004      5    431        2023     911            21       20       34   \n",
       "4005      3   1239        2022     620            30        8        1   \n",
       "4007     14    594        2020     795            24       14        1   \n",
       "4008      4   1524        2020     310            24       46        9   \n",
       "\n",
       "      milages  \n",
       "0       51000  \n",
       "1       34742  \n",
       "3       88900  \n",
       "6       84000  \n",
       "7      211200  \n",
       "...       ...  \n",
       "4003    53705  \n",
       "4004      714  \n",
       "4005    10900  \n",
       "4007    33000  \n",
       "4008    43000  \n",
       "\n",
       "[3269 rows x 8 columns]"
      ]
     },
     "execution_count": 29,
     "metadata": {},
     "output_type": "execute_result"
    }
   ],
   "source": [
    "#Scaling the data using standardscaler\n",
    "from sklearn.preprocessing import StandardScaler\n",
    "sc = StandardScaler()\n",
    "\n",
    "x = sc.fit_transform(X)\n",
    "x = pd.DataFrame(X,columns = z)\n",
    "x"
   ]
  },
  {
   "cell_type": "markdown",
   "id": "1ccdbc38",
   "metadata": {},
   "source": [
    "-  We scale our data by using standard scaler so that our data can be distributed properly and  help to improve model performance, reduce the impact of outliers, and ensure that the data is on the same scale."
   ]
  },
  {
   "cell_type": "code",
   "execution_count": 30,
   "id": "665c9451",
   "metadata": {},
   "outputs": [
    {
     "data": {
      "text/plain": [
       "int_col       1.576646\n",
       "milages       0.739476\n",
       "model_year   -0.747182\n",
       "dtype: float64"
      ]
     },
     "execution_count": 30,
     "metadata": {},
     "output_type": "execute_result"
    }
   ],
   "source": [
    "#We can set the skewness standard limit as +/-0.5.\n",
    "\n",
    "x.skew().sort_values(ascending=False)[np.abs(x.skew())>0.5]"
   ]
  },
  {
   "cell_type": "markdown",
   "id": "f2af7a11",
   "metadata": {},
   "source": [
    "-  These are the features where skewness is present"
   ]
  },
  {
   "cell_type": "code",
   "execution_count": 31,
   "id": "135fb0d8",
   "metadata": {},
   "outputs": [],
   "source": [
    "from sklearn.preprocessing import power_transform\n",
    "\n",
    "def skew(col):\n",
    "    x[col]=power_transform((x[col].values.reshape(-1,1)))\n",
    "    \n",
    "skew('int_col')\n",
    "skew('milages')\n",
    "skew('model_year')\n"
   ]
  },
  {
   "cell_type": "code",
   "execution_count": 32,
   "id": "38a4b79c",
   "metadata": {},
   "outputs": [
    {
     "data": {
      "text/plain": [
       "int_col         0.375690\n",
       "brand           0.357837\n",
       "ext_col         0.117986\n",
       "model           0.103168\n",
       "milages        -0.135962\n",
       "engine         -0.161163\n",
       "transmission   -0.434564\n",
       "model_year     -0.497507\n",
       "dtype: float64"
      ]
     },
     "execution_count": 32,
     "metadata": {},
     "output_type": "execute_result"
    }
   ],
   "source": [
    "x.skew().sort_values(ascending = False)"
   ]
  },
  {
   "cell_type": "markdown",
   "id": "f552f0dc",
   "metadata": {},
   "source": [
    "-  Skewness from all the columns have been removed."
   ]
  },
  {
   "cell_type": "markdown",
   "id": "d9013ffe",
   "metadata": {},
   "source": [
    "### REMOVING OUTLIERS ( using z score method)"
   ]
  },
  {
   "cell_type": "code",
   "execution_count": 33,
   "id": "d3101ab4",
   "metadata": {},
   "outputs": [],
   "source": [
    "from scipy.stats import zscore"
   ]
  },
  {
   "cell_type": "code",
   "execution_count": 34,
   "id": "79576bc7",
   "metadata": {},
   "outputs": [
    {
     "data": {
      "text/html": [
       "<div>\n",
       "<style scoped>\n",
       "    .dataframe tbody tr th:only-of-type {\n",
       "        vertical-align: middle;\n",
       "    }\n",
       "\n",
       "    .dataframe tbody tr th {\n",
       "        vertical-align: top;\n",
       "    }\n",
       "\n",
       "    .dataframe thead th {\n",
       "        text-align: right;\n",
       "    }\n",
       "</style>\n",
       "<table border=\"1\" class=\"dataframe\">\n",
       "  <thead>\n",
       "    <tr style=\"text-align: right;\">\n",
       "      <th></th>\n",
       "      <th>brand</th>\n",
       "      <th>model</th>\n",
       "      <th>model_year</th>\n",
       "      <th>engine</th>\n",
       "      <th>transmission</th>\n",
       "      <th>ext_col</th>\n",
       "      <th>int_col</th>\n",
       "      <th>milages</th>\n",
       "      <th>Price</th>\n",
       "    </tr>\n",
       "  </thead>\n",
       "  <tbody>\n",
       "    <tr>\n",
       "      <th>0</th>\n",
       "      <td>14</td>\n",
       "      <td>1481</td>\n",
       "      <td>-0.352959</td>\n",
       "      <td>492</td>\n",
       "      <td>7</td>\n",
       "      <td>8</td>\n",
       "      <td>-0.440252</td>\n",
       "      <td>-0.192980</td>\n",
       "      <td>10300</td>\n",
       "    </tr>\n",
       "    <tr>\n",
       "      <th>1</th>\n",
       "      <td>19</td>\n",
       "      <td>1011</td>\n",
       "      <td>1.121905</td>\n",
       "      <td>478</td>\n",
       "      <td>20</td>\n",
       "      <td>69</td>\n",
       "      <td>1.354712</td>\n",
       "      <td>-0.578832</td>\n",
       "      <td>38005</td>\n",
       "    </tr>\n",
       "    <tr>\n",
       "      <th>3</th>\n",
       "      <td>20</td>\n",
       "      <td>1055</td>\n",
       "      <td>-0.009006</td>\n",
       "      <td>630</td>\n",
       "      <td>13</td>\n",
       "      <td>8</td>\n",
       "      <td>-0.440252</td>\n",
       "      <td>0.505511</td>\n",
       "      <td>15500</td>\n",
       "    </tr>\n",
       "    <tr>\n",
       "      <th>6</th>\n",
       "      <td>3</td>\n",
       "      <td>1235</td>\n",
       "      <td>0.350964</td>\n",
       "      <td>442</td>\n",
       "      <td>7</td>\n",
       "      <td>14</td>\n",
       "      <td>-0.440252</td>\n",
       "      <td>0.425552</td>\n",
       "      <td>31000</td>\n",
       "    </tr>\n",
       "    <tr>\n",
       "      <th>7</th>\n",
       "      <td>4</td>\n",
       "      <td>119</td>\n",
       "      <td>-2.117372</td>\n",
       "      <td>415</td>\n",
       "      <td>24</td>\n",
       "      <td>47</td>\n",
       "      <td>1.363674</td>\n",
       "      <td>2.033554</td>\n",
       "      <td>7300</td>\n",
       "    </tr>\n",
       "  </tbody>\n",
       "</table>\n",
       "</div>"
      ],
      "text/plain": [
       "   brand  model  model_year  engine  transmission  ext_col   int_col  \\\n",
       "0     14   1481   -0.352959     492             7        8 -0.440252   \n",
       "1     19   1011    1.121905     478            20       69  1.354712   \n",
       "3     20   1055   -0.009006     630            13        8 -0.440252   \n",
       "6      3   1235    0.350964     442             7       14 -0.440252   \n",
       "7      4    119   -2.117372     415            24       47  1.363674   \n",
       "\n",
       "    milages  Price  \n",
       "0 -0.192980  10300  \n",
       "1 -0.578832  38005  \n",
       "3  0.505511  15500  \n",
       "6  0.425552  31000  \n",
       "7  2.033554   7300  "
      ]
     },
     "execution_count": 34,
     "metadata": {},
     "output_type": "execute_result"
    }
   ],
   "source": [
    "# Removing outliers using zscore and keeping threshold as 3 .\n",
    "\n",
    "z_score = np.abs(zscore(x))\n",
    "\n",
    "filter_dt = (z_score < 3).all(axis = 1)\n",
    "car_price1 = x[filter_dt]\n",
    "car_price1['Price'] = y.copy()\n",
    "car_price1.head() "
   ]
  },
  {
   "cell_type": "code",
   "execution_count": 35,
   "id": "c408a769",
   "metadata": {},
   "outputs": [
    {
     "data": {
      "text/plain": [
       "(3269, 9)"
      ]
     },
     "execution_count": 35,
     "metadata": {},
     "output_type": "execute_result"
    }
   ],
   "source": [
    "car_price1.shape"
   ]
  },
  {
   "cell_type": "markdown",
   "id": "8c981721",
   "metadata": {},
   "source": [
    "### Checking the Multicolinearity"
   ]
  },
  {
   "cell_type": "code",
   "execution_count": 36,
   "id": "795c9436",
   "metadata": {},
   "outputs": [
    {
     "name": "stdout",
     "output_type": "stream",
     "text": [
      "(3269, 8)\n",
      "(3269,)\n"
     ]
    }
   ],
   "source": [
    "x = car_price1.drop('Price',axis = 1)\n",
    "y = car_price1['Price']\n",
    "print(x.shape)\n",
    "print(y.shape)"
   ]
  },
  {
   "cell_type": "code",
   "execution_count": 37,
   "id": "23f898fd",
   "metadata": {},
   "outputs": [],
   "source": [
    "from statsmodels.stats.outliers_influence import variance_inflation_factor\n",
    "\n",
    "def vif(x):\n",
    "    vif = pd.DataFrame()\n",
    "    vif['Column Name'] = x.columns\n",
    "    vif['VIF Factor'] = [variance_inflation_factor(x.values,i) for i in range(x.shape[1])]\n",
    "    return(vif.sort_values(by ='VIF Factor', ascending = False))"
   ]
  },
  {
   "cell_type": "code",
   "execution_count": 38,
   "id": "f1c46740",
   "metadata": {},
   "outputs": [
    {
     "data": {
      "text/html": [
       "<div>\n",
       "<style scoped>\n",
       "    .dataframe tbody tr th:only-of-type {\n",
       "        vertical-align: middle;\n",
       "    }\n",
       "\n",
       "    .dataframe tbody tr th {\n",
       "        vertical-align: top;\n",
       "    }\n",
       "\n",
       "    .dataframe thead th {\n",
       "        text-align: right;\n",
       "    }\n",
       "</style>\n",
       "<table border=\"1\" class=\"dataframe\">\n",
       "  <thead>\n",
       "    <tr style=\"text-align: right;\">\n",
       "      <th></th>\n",
       "      <th>Column Name</th>\n",
       "      <th>VIF Factor</th>\n",
       "    </tr>\n",
       "  </thead>\n",
       "  <tbody>\n",
       "    <tr>\n",
       "      <th>4</th>\n",
       "      <td>transmission</td>\n",
       "      <td>3.923607</td>\n",
       "    </tr>\n",
       "    <tr>\n",
       "      <th>3</th>\n",
       "      <td>engine</td>\n",
       "      <td>3.688074</td>\n",
       "    </tr>\n",
       "    <tr>\n",
       "      <th>1</th>\n",
       "      <td>model</td>\n",
       "      <td>3.107176</td>\n",
       "    </tr>\n",
       "    <tr>\n",
       "      <th>0</th>\n",
       "      <td>brand</td>\n",
       "      <td>2.655548</td>\n",
       "    </tr>\n",
       "    <tr>\n",
       "      <th>5</th>\n",
       "      <td>ext_col</td>\n",
       "      <td>2.484991</td>\n",
       "    </tr>\n",
       "    <tr>\n",
       "      <th>7</th>\n",
       "      <td>milages</td>\n",
       "      <td>1.739433</td>\n",
       "    </tr>\n",
       "    <tr>\n",
       "      <th>2</th>\n",
       "      <td>model_year</td>\n",
       "      <td>1.694580</td>\n",
       "    </tr>\n",
       "    <tr>\n",
       "      <th>6</th>\n",
       "      <td>int_col</td>\n",
       "      <td>1.008792</td>\n",
       "    </tr>\n",
       "  </tbody>\n",
       "</table>\n",
       "</div>"
      ],
      "text/plain": [
       "    Column Name  VIF Factor\n",
       "4  transmission    3.923607\n",
       "3        engine    3.688074\n",
       "1         model    3.107176\n",
       "0         brand    2.655548\n",
       "5       ext_col    2.484991\n",
       "7       milages    1.739433\n",
       "2    model_year    1.694580\n",
       "6       int_col    1.008792"
      ]
     },
     "execution_count": 38,
     "metadata": {},
     "output_type": "execute_result"
    }
   ],
   "source": [
    "vif(x)"
   ]
  },
  {
   "cell_type": "markdown",
   "id": "092c6738",
   "metadata": {},
   "source": [
    "-  We have all data below 5 that means VIF value below 5 indicates that multicollinearity is not a significant concern. This suggests that the variance of a regression coefficient is not inflated due to collinearity with other predictors in the model."
   ]
  },
  {
   "cell_type": "markdown",
   "id": "22bee149",
   "metadata": {},
   "source": [
    "### MODEL Building "
   ]
  },
  {
   "cell_type": "code",
   "execution_count": 39,
   "id": "cfe59cee",
   "metadata": {},
   "outputs": [],
   "source": [
    "# SPLITTING THE DATA INTO X AND Y VARIABLE.\n",
    "\n",
    "input= X.copy()\n",
    "output = y.copy()"
   ]
  },
  {
   "cell_type": "markdown",
   "id": "372df739",
   "metadata": {},
   "source": [
    "- We divide the data into x and y variable."
   ]
  },
  {
   "cell_type": "markdown",
   "id": "3ab48065",
   "metadata": {},
   "source": [
    "#### Important Liberaries"
   ]
  },
  {
   "cell_type": "code",
   "execution_count": 40,
   "id": "5bea8bdd",
   "metadata": {},
   "outputs": [],
   "source": [
    "from sklearn.linear_model import LinearRegression\n",
    "from sklearn.neighbors import KNeighborsRegressor\n",
    "from sklearn.svm import SVR\n",
    "from sklearn.tree import DecisionTreeRegressor\n",
    "from sklearn.ensemble import RandomForestRegressor\n",
    "from sklearn.ensemble import AdaBoostRegressor\n",
    "from sklearn.ensemble import GradientBoostingRegressor\n",
    "from sklearn.ensemble import ExtraTreesRegressor\n",
    "from xgboost import XGBRegressor\n",
    "\n",
    "# for cross validation\n",
    "from sklearn.model_selection import cross_val_score\n",
    "\n",
    "from sklearn.metrics import mean_squared_error,mean_absolute_error, r2_score\n",
    "\n",
    "from sklearn.linear_model import Lasso,Ridge,ElasticNet  #Reguralization technique\n",
    "\n",
    "from sklearn.model_selection import train_test_split"
   ]
  },
  {
   "cell_type": "markdown",
   "id": "4c2c4a04",
   "metadata": {},
   "source": [
    "##### FINDING BEST RANDOM STATE"
   ]
  },
  {
   "cell_type": "code",
   "execution_count": 41,
   "id": "7436e100",
   "metadata": {},
   "outputs": [
    {
     "name": "stdout",
     "output_type": "stream",
     "text": [
      "Best Accuracy is: 0.8790844469014766 on random_state: 57\n"
     ]
    }
   ],
   "source": [
    " \n",
    "maxAcc = 0\n",
    "maxRS=0\n",
    "for i in range(1,100):\n",
    "    x_train,x_test,y_train,y_test = train_test_split(input,output,test_size =0.20, random_state =i )\n",
    "    modRF =  RandomForestRegressor()\n",
    "    modRF.fit(x_train,y_train)\n",
    "    pred = modRF.predict(x_test)\n",
    "    acc  = r2_score(y_test,pred)\n",
    "    if acc>maxAcc:\n",
    "        maxAcc=acc\n",
    "        maxRS=i\n",
    "print(f\"Best Accuracy is: {maxAcc} on random_state: {maxRS}\")"
   ]
  },
  {
   "cell_type": "markdown",
   "id": "93d3ed6e",
   "metadata": {},
   "source": [
    "- Random state help us split train test data every time we run the code.We will use 57 for our random state. "
   ]
  },
  {
   "cell_type": "code",
   "execution_count": 42,
   "id": "c6f00250",
   "metadata": {},
   "outputs": [],
   "source": [
    "#Applying the best selected random state -\n",
    "\n",
    "x_train,x_test,y_train,y_test = train_test_split(input,output,test_size =0.20, random_state =57 )"
   ]
  },
  {
   "cell_type": "markdown",
   "id": "34719e51",
   "metadata": {},
   "source": [
    "### TESTING ALL MODELS ONE BY ONE"
   ]
  },
  {
   "cell_type": "markdown",
   "id": "abf84f8f",
   "metadata": {},
   "source": [
    "#### 1) LINEAR REGRESSION "
   ]
  },
  {
   "cell_type": "code",
   "execution_count": 43,
   "id": "00a069b4",
   "metadata": {},
   "outputs": [
    {
     "name": "stdout",
     "output_type": "stream",
     "text": [
      "R2 score is  0.6986196598119463\n",
      "__________________________________________________\n",
      "Mean Sqaured Error is  171879290.4399597\n",
      "__________________________________________________\n",
      "Mean Absolute Error is  10209.643992479667\n",
      "__________________________________________________\n",
      "Coefficent is  [ 1.40992988e+02  2.12789990e-01  1.01379259e+03  4.21723464e+01\n",
      " -9.21876147e-01  7.52418821e-01  5.45707137e+01 -1.86696506e-01]\n",
      "__________________________________________________\n",
      "Intercept is  -2020318.052647727\n",
      "__________________________________________________\n"
     ]
    }
   ],
   "source": [
    "lr = LinearRegression()\n",
    "lr.fit(x_train,y_train)\n",
    "pred_test = lr.predict(x_test)\n",
    "acc = r2_score(y_test,pred_test)\n",
    "mse = mean_squared_error(y_test,pred_test)\n",
    "mae = mean_absolute_error(y_test,pred_test)\n",
    "print(\"R2 score is \", acc)\n",
    "print(\"_\"*50)\n",
    "print(\"Mean Sqaured Error is \",mse)\n",
    "print(\"_\"*50)\n",
    "print(\"Mean Absolute Error is \",mae)\n",
    "print(\"_\"*50)\n",
    "print(\"Coefficent is \",lr.coef_)\n",
    "print(\"_\"*50)\n",
    "print(\"Intercept is \",lr.intercept_)\n",
    "print(\"_\"*50)"
   ]
  },
  {
   "cell_type": "code",
   "execution_count": 44,
   "id": "a7fec065",
   "metadata": {},
   "outputs": [
    {
     "data": {
      "text/plain": [
       "0.6602003115721751"
      ]
     },
     "execution_count": 44,
     "metadata": {},
     "output_type": "execute_result"
    }
   ],
   "source": [
    "#cross validation of LINEAR REGRESSION \n",
    "\n",
    "cross_val_score(lr,input,output,cv=5).mean()"
   ]
  },
  {
   "cell_type": "markdown",
   "id": "844fd838",
   "metadata": {},
   "source": [
    "#### 2) SVR"
   ]
  },
  {
   "cell_type": "code",
   "execution_count": 45,
   "id": "bb261150",
   "metadata": {},
   "outputs": [
    {
     "name": "stdout",
     "output_type": "stream",
     "text": [
      "R2 score is  -0.06278575417397758\n",
      "__________________________________________________\n",
      "Mean Sqaured Error is  606114059.0761119\n",
      "__________________________________________________\n",
      "Mean Absolute Error is  18235.868107935163\n",
      "__________________________________________________\n"
     ]
    }
   ],
   "source": [
    "svr = SVR()\n",
    "svr.fit(x_train,y_train)\n",
    "pred_testsvr = svr.predict(x_test)\n",
    "acc = r2_score(y_test,pred_testsvr)\n",
    "mse = mean_squared_error(y_test,pred_testsvr)\n",
    "mae = mean_absolute_error(y_test,pred_testsvr)\n",
    "print(\"R2 score is \", acc)\n",
    "print(\"_\"*50)\n",
    "print(\"Mean Sqaured Error is \",mse)\n",
    "print(\"_\"*50)\n",
    "print(\"Mean Absolute Error is \",mae)\n",
    "print(\"_\"*50)"
   ]
  },
  {
   "cell_type": "code",
   "execution_count": 46,
   "id": "8f30da19",
   "metadata": {},
   "outputs": [
    {
     "data": {
      "text/plain": [
       "-0.048179903780307856"
      ]
     },
     "execution_count": 46,
     "metadata": {},
     "output_type": "execute_result"
    }
   ],
   "source": [
    "# cross validation of SVR\n",
    "\n",
    "cross_val_score(svr,input,output,cv=5).mean()"
   ]
  },
  {
   "cell_type": "markdown",
   "id": "5da65303",
   "metadata": {},
   "source": [
    "#### 3) RANDOM FOREST REGRESSOR"
   ]
  },
  {
   "cell_type": "code",
   "execution_count": 47,
   "id": "46f648c5",
   "metadata": {},
   "outputs": [
    {
     "name": "stdout",
     "output_type": "stream",
     "text": [
      "R2 score is  0.8803218371947353\n",
      "__________________________________________________\n",
      "Mean Sqaured Error is  68253283.18128379\n",
      "__________________________________________________\n",
      "Mean Absolute Error is  6002.7158103975535\n",
      "__________________________________________________\n"
     ]
    }
   ],
   "source": [
    "rfr = RandomForestRegressor(n_estimators=100)\n",
    "rfr.fit(x_train,y_train)\n",
    "pred_testrf = rfr.predict(x_test)\n",
    "acc = r2_score(y_test,pred_testrf)\n",
    "mse = mean_squared_error(y_test,pred_testrf)\n",
    "mae = mean_absolute_error(y_test,pred_testrf)\n",
    "print(\"R2 score is \", acc)\n",
    "print(\"_\"*50)\n",
    "print(\"Mean Sqaured Error is \",mse)\n",
    "print(\"_\"*50)\n",
    "print(\"Mean Absolute Error is \",mae)\n",
    "print(\"_\"*50)"
   ]
  },
  {
   "cell_type": "code",
   "execution_count": 48,
   "id": "272d4a0e",
   "metadata": {},
   "outputs": [
    {
     "data": {
      "text/plain": [
       "0.8319070925049736"
      ]
     },
     "execution_count": 48,
     "metadata": {},
     "output_type": "execute_result"
    }
   ],
   "source": [
    "# Cross validation RANDOM FOREST REGRESSOR\n",
    "\n",
    "cross_val_score(rfr,input,output,cv=5).mean()"
   ]
  },
  {
   "cell_type": "markdown",
   "id": "021e4f6e",
   "metadata": {},
   "source": [
    "#### 4) KNN REGRESSOR"
   ]
  },
  {
   "cell_type": "code",
   "execution_count": 49,
   "id": "d464adfa",
   "metadata": {},
   "outputs": [
    {
     "name": "stdout",
     "output_type": "stream",
     "text": [
      "R2 score is  0.5976171994745959\n",
      "__________________________________________________\n",
      "Mean Sqaured Error is  229481691.46134555\n",
      "__________________________________________________\n",
      "Mean Absolute Error is  11395.378287461774\n",
      "__________________________________________________\n"
     ]
    }
   ],
   "source": [
    "knn = KNeighborsRegressor()\n",
    "knn.fit(x_train,y_train)\n",
    "pred_test = knn.predict(x_test)\n",
    "acc = r2_score(y_test,pred_test)\n",
    "mse = mean_squared_error(y_test,pred_test)\n",
    "mae = mean_absolute_error(y_test,pred_test)\n",
    "print(\"R2 score is \", acc)\n",
    "print(\"_\"*50)\n",
    "print(\"Mean Sqaured Error is \",mse)\n",
    "print(\"_\"*50)\n",
    "print(\"Mean Absolute Error is \",mae)\n",
    "print(\"_\"*50)"
   ]
  },
  {
   "cell_type": "code",
   "execution_count": 50,
   "id": "8b1a692e",
   "metadata": {},
   "outputs": [
    {
     "data": {
      "text/plain": [
       "0.5775521507422898"
      ]
     },
     "execution_count": 50,
     "metadata": {},
     "output_type": "execute_result"
    }
   ],
   "source": [
    "#Cross validation of KNN Regressor\n",
    "\n",
    "cross_val_score(knn,input,output,cv=5).mean()"
   ]
  },
  {
   "cell_type": "markdown",
   "id": "fe44fcb6",
   "metadata": {},
   "source": [
    "#### 5) GRADIENT BOOSTING REGRESSOR"
   ]
  },
  {
   "cell_type": "code",
   "execution_count": 51,
   "id": "41238cff",
   "metadata": {},
   "outputs": [
    {
     "name": "stdout",
     "output_type": "stream",
     "text": [
      "R2 score is  0.8769341086638686\n",
      "__________________________________________________\n",
      "Mean Sqaured Error is  70185328.17043358\n",
      "__________________________________________________\n",
      "Mean Absolute Error is  6140.743279293477\n",
      "__________________________________________________\n"
     ]
    }
   ],
   "source": [
    "gbr = GradientBoostingRegressor()\n",
    "gbr.fit(x_train,y_train)\n",
    "pred_testgb = gbr.predict(x_test)\n",
    "acc = r2_score(y_test,pred_testgb)\n",
    "mse = mean_squared_error(y_test,pred_testgb)\n",
    "mae = mean_absolute_error(y_test,pred_testgb)\n",
    "print(\"R2 score is \", acc)\n",
    "print(\"_\"*50)\n",
    "print(\"Mean Sqaured Error is \",mse)\n",
    "print(\"_\"*50)\n",
    "print(\"Mean Absolute Error is \",mae)\n",
    "print(\"_\"*50)"
   ]
  },
  {
   "cell_type": "code",
   "execution_count": 52,
   "id": "9e3d793a",
   "metadata": {},
   "outputs": [
    {
     "data": {
      "text/plain": [
       "0.8359843500174584"
      ]
     },
     "execution_count": 52,
     "metadata": {},
     "output_type": "execute_result"
    }
   ],
   "source": [
    "# Cross validation gradient boosting Regressor\n",
    "cross_val_score(gbr,input,output,cv=5).mean()"
   ]
  },
  {
   "cell_type": "markdown",
   "id": "d25342ab",
   "metadata": {},
   "source": [
    "#### 6) DecisionTreeRegressor"
   ]
  },
  {
   "cell_type": "code",
   "execution_count": 53,
   "id": "a8ee2943",
   "metadata": {},
   "outputs": [
    {
     "name": "stdout",
     "output_type": "stream",
     "text": [
      "R2 score is  0.7012527886278594\n",
      "__________________________________________________\n",
      "Mean Sqaured Error is  170377598.882263\n",
      "__________________________________________________\n",
      "Mean Absolute Error is  8663.652905198776\n",
      "__________________________________________________\n"
     ]
    }
   ],
   "source": [
    "dtr = DecisionTreeRegressor()\n",
    "dtr.fit(x_train,y_train)\n",
    "pred_testdt = dtr.predict(x_test)\n",
    "acc = r2_score(y_test,pred_testdt)\n",
    "mse = mean_squared_error(y_test,pred_testdt)\n",
    "mae = mean_absolute_error(y_test,pred_testdt)\n",
    "print(\"R2 score is \", acc)\n",
    "print(\"_\"*50)\n",
    "print(\"Mean Sqaured Error is \",mse)\n",
    "print(\"_\"*50)\n",
    "print(\"Mean Absolute Error is \",mae)\n",
    "print(\"_\"*50)"
   ]
  },
  {
   "cell_type": "code",
   "execution_count": 54,
   "id": "351f6163",
   "metadata": {},
   "outputs": [
    {
     "data": {
      "text/plain": [
       "0.6717033387273312"
      ]
     },
     "execution_count": 54,
     "metadata": {},
     "output_type": "execute_result"
    }
   ],
   "source": [
    "# Cross validation of DecisionTreeRegressor\n",
    "cross_val_score(dtr,input,output,cv=5).mean()"
   ]
  },
  {
   "cell_type": "markdown",
   "id": "1f56ce41",
   "metadata": {},
   "source": [
    "#### 7) ADA BOOST REGRESSOR"
   ]
  },
  {
   "cell_type": "code",
   "execution_count": 55,
   "id": "65ff8eef",
   "metadata": {},
   "outputs": [
    {
     "name": "stdout",
     "output_type": "stream",
     "text": [
      "R2 score is  0.6377906133638196\n",
      "__________________________________________________\n",
      "Mean Sqaured Error is  206570515.9363526\n",
      "__________________________________________________\n",
      "Mean Absolute Error is  12264.315576262496\n",
      "__________________________________________________\n"
     ]
    }
   ],
   "source": [
    "abr = AdaBoostRegressor()\n",
    "abr.fit(x_train,y_train)\n",
    "pred_testad = abr.predict(x_test)\n",
    "acc = r2_score(y_test,pred_testad)\n",
    "mse = mean_squared_error(y_test,pred_testad)\n",
    "mae = mean_absolute_error(y_test,pred_testad)\n",
    "print(\"R2 score is \", acc)\n",
    "print(\"_\"*50)\n",
    "print(\"Mean Sqaured Error is \",mse)\n",
    "print(\"_\"*50)\n",
    "print(\"Mean Absolute Error is \",mae)\n",
    "print(\"_\"*50)"
   ]
  },
  {
   "cell_type": "code",
   "execution_count": 56,
   "id": "b78b190b",
   "metadata": {},
   "outputs": [
    {
     "data": {
      "text/plain": [
       "0.6395889444112707"
      ]
     },
     "execution_count": 56,
     "metadata": {},
     "output_type": "execute_result"
    }
   ],
   "source": [
    "# Cross validation of ada boost regressor\n",
    "cross_val_score(abr,input,output,cv=5).mean()"
   ]
  },
  {
   "cell_type": "markdown",
   "id": "6bdc9cfc",
   "metadata": {},
   "source": [
    "#### 8) EXTRA TREE REGRESSOR"
   ]
  },
  {
   "cell_type": "code",
   "execution_count": 57,
   "id": "52debe08",
   "metadata": {},
   "outputs": [
    {
     "name": "stdout",
     "output_type": "stream",
     "text": [
      "R2 score is  0.8669232105907918\n",
      "__________________________________________________\n",
      "Mean Sqaured Error is  75894612.51324618\n",
      "__________________________________________________\n",
      "Mean Absolute Error is  6238.361039755352\n",
      "__________________________________________________\n"
     ]
    }
   ],
   "source": [
    "etr = ExtraTreesRegressor()\n",
    "etr.fit(x_train,y_train)\n",
    "pred_testet = etr.predict(x_test)\n",
    "acc = r2_score(y_test,pred_testet)\n",
    "mse = mean_squared_error(y_test,pred_testet)\n",
    "mae = mean_absolute_error(y_test,pred_testet)\n",
    "print(\"R2 score is \", acc)\n",
    "print(\"_\"*50)\n",
    "print(\"Mean Sqaured Error is \",mse)\n",
    "print(\"_\"*50)\n",
    "print(\"Mean Absolute Error is \",mae)\n",
    "print(\"_\"*50)\n"
   ]
  },
  {
   "cell_type": "code",
   "execution_count": 58,
   "id": "73082b85",
   "metadata": {},
   "outputs": [
    {
     "data": {
      "text/plain": [
       "0.8276338247362519"
      ]
     },
     "execution_count": 58,
     "metadata": {},
     "output_type": "execute_result"
    }
   ],
   "source": [
    "#Cross validation of EXTRA TREE REGRESSOR\n",
    "\n",
    "cross_val_score(etr,input,output,cv=5).mean()"
   ]
  },
  {
   "cell_type": "markdown",
   "id": "7e30c39a",
   "metadata": {},
   "source": [
    "#### 9) XGB REGRESSOR"
   ]
  },
  {
   "cell_type": "code",
   "execution_count": 59,
   "id": "a39b45ca",
   "metadata": {},
   "outputs": [
    {
     "name": "stdout",
     "output_type": "stream",
     "text": [
      "R2 score is  0.9077804050431155\n",
      "__________________________________________________\n",
      "Mean Sqaured Error is  52593472.2084373\n",
      "__________________________________________________\n",
      "Mean Absolute Error is  5322.019439790592\n",
      "__________________________________________________\n"
     ]
    }
   ],
   "source": [
    "xgb = XGBRegressor()\n",
    "xgb.fit(x_train,y_train)\n",
    "pred_testxg = xgb.predict(x_test)\n",
    "acc = r2_score(y_test,pred_testxg)\n",
    "mse = mean_squared_error(y_test,pred_testxg)\n",
    "mae = mean_absolute_error(y_test,pred_testxg)\n",
    "print(\"R2 score is \", acc)\n",
    "print(\"_\"*50)\n",
    "print(\"Mean Sqaured Error is \",mse)\n",
    "print(\"_\"*50)\n",
    "print(\"Mean Absolute Error is \",mae)\n",
    "print(\"_\"*50)"
   ]
  },
  {
   "cell_type": "code",
   "execution_count": 60,
   "id": "9c53b8ef",
   "metadata": {},
   "outputs": [
    {
     "data": {
      "text/plain": [
       "0.8615877290481851"
      ]
     },
     "execution_count": 60,
     "metadata": {},
     "output_type": "execute_result"
    }
   ],
   "source": [
    "#Cross validation of XGB REGRESSOR\n",
    "cross_val_score(xgb,input,output,cv=5).mean()"
   ]
  },
  {
   "cell_type": "markdown",
   "id": "946f8a52",
   "metadata": {},
   "source": [
    "- After testing and cross validating the models, the XGB Regressor model is performing well and providing an accuracy score of 90.7% with a cross validation mean score of 86.1% for 5 fold cross validations"
   ]
  },
  {
   "cell_type": "code",
   "execution_count": 61,
   "id": "98345db9",
   "metadata": {},
   "outputs": [
    {
     "data": {
      "image/png": "[encoded data removed]",
      "text/plain": [
       "<Figure size 1000x800 with 1 Axes>"
      ]
     },
     "metadata": {},
     "output_type": "display_data"
    }
   ],
   "source": [
    "imp_id=pd.DataFrame({\"Feature Name\":x_train.columns,\"Importance\":xgb.feature_importances_})\n",
    "fi=imp_id.sort_values(by=\"Importance\",ascending=False)\n",
    "fi2=fi.head(10)\n",
    "plt.figure(figsize=(10,8))\n",
    "sns.barplot(data=fi2,x=\"Importance\",y=\"Feature Name\")\n",
    "plt.title('Top10 features importance each attributes (XGB)',fontsize=18)\n",
    "plt.xlabel('Importance',fontsize=16)\n",
    "plt.ylabel('Feature name', fontsize=16)\n",
    "plt.show()"
   ]
  },
  {
   "cell_type": "markdown",
   "id": "348ff215",
   "metadata": {},
   "source": [
    "-  Using Xgb we have top features which help us to predict the price, In this, milage is the top most and exterior color is the least to predict price."
   ]
  },
  {
   "cell_type": "markdown",
   "id": "4f298051",
   "metadata": {},
   "source": [
    "#### HYPERPARAMETER TUNNING OF EXTRA XGB REGRESSOR"
   ]
  },
  {
   "cell_type": "code",
   "execution_count": 62,
   "id": "e26631cf",
   "metadata": {},
   "outputs": [
    {
     "data": {
      "text/plain": [
       "{'objective': 'reg:squarederror',\n",
       " 'base_score': None,\n",
       " 'booster': None,\n",
       " 'callbacks': None,\n",
       " 'colsample_bylevel': None,\n",
       " 'colsample_bynode': None,\n",
       " 'colsample_bytree': None,\n",
       " 'device': None,\n",
       " 'early_stopping_rounds': None,\n",
       " 'enable_categorical': False,\n",
       " 'eval_metric': None,\n",
       " 'feature_types': None,\n",
       " 'gamma': None,\n",
       " 'grow_policy': None,\n",
       " 'importance_type': None,\n",
       " 'interaction_constraints': None,\n",
       " 'learning_rate': None,\n",
       " 'max_bin': None,\n",
       " 'max_cat_threshold': None,\n",
       " 'max_cat_to_onehot': None,\n",
       " 'max_delta_step': None,\n",
       " 'max_depth': None,\n",
       " 'max_leaves': None,\n",
       " 'min_child_weight': None,\n",
       " 'missing': nan,\n",
       " 'monotone_constraints': None,\n",
       " 'multi_strategy': None,\n",
       " 'n_estimators': None,\n",
       " 'n_jobs': None,\n",
       " 'num_parallel_tree': None,\n",
       " 'random_state': None,\n",
       " 'reg_alpha': None,\n",
       " 'reg_lambda': None,\n",
       " 'sampling_method': None,\n",
       " 'scale_pos_weight': None,\n",
       " 'subsample': None,\n",
       " 'tree_method': None,\n",
       " 'validate_parameters': None,\n",
       " 'verbosity': None}"
      ]
     },
     "execution_count": 62,
     "metadata": {},
     "output_type": "execute_result"
    }
   ],
   "source": [
    "xgb.get_params()"
   ]
  },
  {
   "cell_type": "code",
   "execution_count": 63,
   "id": "7d2ab6da",
   "metadata": {},
   "outputs": [
    {
     "data": {
      "text/plain": [
       "HalvingGridSearchCV(estimator=XGBRegressor(base_score=None, booster=None,\n",
       "                                           callbacks=None,\n",
       "                                           colsample_bylevel=None,\n",
       "                                           colsample_bynode=None,\n",
       "                                           colsample_bytree=None, device=None,\n",
       "                                           early_stopping_rounds=None,\n",
       "                                           enable_categorical=False,\n",
       "                                           eval_metric=None, feature_types=None,\n",
       "                                           gamma=None, grow_policy=None,\n",
       "                                           importance_type=None,\n",
       "                                           interaction_constraints=None,\n",
       "                                           learning_rate=None...\n",
       "                                           max_delta_step=None, max_depth=None,\n",
       "                                           max_leaves=None,\n",
       "                                           min_child_weight=None, missing=nan,\n",
       "                                           monotone_constraints=None,\n",
       "                                           multi_strategy=None,\n",
       "                                           n_estimators=None, n_jobs=None,\n",
       "                                           num_parallel_tree=None,\n",
       "                                           random_state=None, ...),\n",
       "                    param_grid={'criterion': ['squared_error',\n",
       "                                              'absolute_error'],\n",
       "                                'max_depth': [10, 20, 30, None],\n",
       "                                'max_features': [None, 'sqrt', 'log2'],\n",
       "                                'n_estimators': [100, 125, 150, 200]})"
      ]
     },
     "execution_count": 63,
     "metadata": {},
     "output_type": "execute_result"
    }
   ],
   "source": [
    "from sklearn.experimental import enable_halving_search_cv\n",
    "from sklearn.model_selection import HalvingGridSearchCV\n",
    "parameters = {'n_estimators':[100,125,150,200],\n",
    "             'criterion': ['squared_error','absolute_error'],\n",
    "             'max_features': [None,'sqrt','log2'],\n",
    "             'max_depth':[10,20,30,None]}\n",
    "\n",
    "grid = HalvingGridSearchCV(estimator = XGBRegressor(),param_grid=parameters, cv = 5)\n",
    "grid.fit(input,output)"
   ]
  },
  {
   "cell_type": "code",
   "execution_count": 64,
   "id": "1e7b621f",
   "metadata": {},
   "outputs": [
    {
     "data": {
      "text/plain": [
       "0.8313350973925331"
      ]
     },
     "execution_count": 64,
     "metadata": {},
     "output_type": "execute_result"
    }
   ],
   "source": [
    "grid.best_score_"
   ]
  },
  {
   "cell_type": "code",
   "execution_count": 65,
   "id": "c7495279",
   "metadata": {},
   "outputs": [
    {
     "data": {
      "text/plain": [
       "{'criterion': 'squared_error',\n",
       " 'max_depth': 10,\n",
       " 'max_features': None,\n",
       " 'n_estimators': 150}"
      ]
     },
     "execution_count": 65,
     "metadata": {},
     "output_type": "execute_result"
    }
   ],
   "source": [
    "grid.best_params_"
   ]
  },
  {
   "cell_type": "code",
   "execution_count": 66,
   "id": "44248c56",
   "metadata": {},
   "outputs": [
    {
     "name": "stdout",
     "output_type": "stream",
     "text": [
      "R2 Score 0.8345590649530447\n",
      "Mean Squared Error 1167007648.4772668\n",
      "Mean Absolute Error 26222.476614389216\n"
     ]
    }
   ],
   "source": [
    "xgb = XGBRegressor(n_estimators=125,max_depth=20,max_features='sqrt',criterion='absolute_error')\n",
    "x_train,x_test,y_train,y_test = train_test_split(input,output,test_size =0.20)\n",
    "xgb.fit(x_train, y_train)\n",
    "pred_test_xgb = xgb.predict(x_test)\n",
    "\n",
    "\n",
    "print('R2 Score',r2_score(y_test,pred_test_xgb))\n",
    "print('Mean Squared Error',mean_squared_error(y_test,pred_testxg))\n",
    "print('Mean Absolute Error',mean_absolute_error(y_test,pred_testxg))"
   ]
  },
  {
   "cell_type": "code",
   "execution_count": 67,
   "id": "96e7d72a",
   "metadata": {},
   "outputs": [
    {
     "name": "stdout",
     "output_type": "stream",
     "text": [
      "At cv fold 5  the cv score is  0.814278158762531 and the R2 score  is  -0.9625821509597432\n"
     ]
    }
   ],
   "source": [
    "cv_score = cross_val_score(xgb,x,y, cv = 5)\n",
    "cv_mean =cv_score.mean()\n",
    "print(\"At cv fold\",5,\" the cv score is \", cv_mean, \"and the R2 score  is \",r2_score(y_test,pred_testxg))"
   ]
  },
  {
   "cell_type": "markdown",
   "id": "c401fb4c",
   "metadata": {},
   "source": [
    "- After all the tests, cross validations and tunings, the XGB classifier() is performing well with the accuracy score is 86.5% with a cross validation mean score of 81% for 5 cross validations."
   ]
  },
  {
   "cell_type": "markdown",
   "id": "bbeff455",
   "metadata": {},
   "source": [
    "#### Saving the Best Model"
   ]
  },
  {
   "cell_type": "code",
   "execution_count": 68,
   "id": "065f436e",
   "metadata": {},
   "outputs": [],
   "source": [
    "import pickle\n",
    "\n",
    "filename = 'Car_price_pred_model .pkl'\n",
    "pickle.dump(xgb,open(filename,'wb'))"
   ]
  },
  {
   "cell_type": "markdown",
   "id": "fadcf3c9",
   "metadata": {},
   "source": [
    "#### CONCLUSION "
   ]
  },
  {
   "cell_type": "code",
   "execution_count": 69,
   "id": "0f01f950",
   "metadata": {},
   "outputs": [
    {
     "data": {
      "text/html": [
       "<div>\n",
       "<style scoped>\n",
       "    .dataframe tbody tr th:only-of-type {\n",
       "        vertical-align: middle;\n",
       "    }\n",
       "\n",
       "    .dataframe tbody tr th {\n",
       "        vertical-align: top;\n",
       "    }\n",
       "\n",
       "    .dataframe thead th {\n",
       "        text-align: right;\n",
       "    }\n",
       "</style>\n",
       "<table border=\"1\" class=\"dataframe\">\n",
       "  <thead>\n",
       "    <tr style=\"text-align: right;\">\n",
       "      <th></th>\n",
       "      <th>Original price($)</th>\n",
       "      <th>Predicted price($)</th>\n",
       "    </tr>\n",
       "  </thead>\n",
       "  <tbody>\n",
       "    <tr>\n",
       "      <th>521</th>\n",
       "      <td>5000</td>\n",
       "      <td>6103.686523</td>\n",
       "    </tr>\n",
       "    <tr>\n",
       "      <th>433</th>\n",
       "      <td>29182</td>\n",
       "      <td>30285.634766</td>\n",
       "    </tr>\n",
       "    <tr>\n",
       "      <th>101</th>\n",
       "      <td>80300</td>\n",
       "      <td>42988.039062</td>\n",
       "    </tr>\n",
       "    <tr>\n",
       "      <th>85</th>\n",
       "      <td>41927</td>\n",
       "      <td>41873.128906</td>\n",
       "    </tr>\n",
       "    <tr>\n",
       "      <th>488</th>\n",
       "      <td>11900</td>\n",
       "      <td>11201.667969</td>\n",
       "    </tr>\n",
       "    <tr>\n",
       "      <th>632</th>\n",
       "      <td>35234</td>\n",
       "      <td>34218.570312</td>\n",
       "    </tr>\n",
       "    <tr>\n",
       "      <th>240</th>\n",
       "      <td>9499</td>\n",
       "      <td>9588.585938</td>\n",
       "    </tr>\n",
       "    <tr>\n",
       "      <th>273</th>\n",
       "      <td>13500</td>\n",
       "      <td>6825.689453</td>\n",
       "    </tr>\n",
       "    <tr>\n",
       "      <th>461</th>\n",
       "      <td>54000</td>\n",
       "      <td>39810.945312</td>\n",
       "    </tr>\n",
       "    <tr>\n",
       "      <th>74</th>\n",
       "      <td>76400</td>\n",
       "      <td>45710.148438</td>\n",
       "    </tr>\n",
       "    <tr>\n",
       "      <th>567</th>\n",
       "      <td>44900</td>\n",
       "      <td>51149.886719</td>\n",
       "    </tr>\n",
       "    <tr>\n",
       "      <th>197</th>\n",
       "      <td>43000</td>\n",
       "      <td>55955.250000</td>\n",
       "    </tr>\n",
       "    <tr>\n",
       "      <th>350</th>\n",
       "      <td>19000</td>\n",
       "      <td>17202.679688</td>\n",
       "    </tr>\n",
       "    <tr>\n",
       "      <th>411</th>\n",
       "      <td>39750</td>\n",
       "      <td>49858.964844</td>\n",
       "    </tr>\n",
       "    <tr>\n",
       "      <th>471</th>\n",
       "      <td>21995</td>\n",
       "      <td>15185.548828</td>\n",
       "    </tr>\n",
       "    <tr>\n",
       "      <th>62</th>\n",
       "      <td>17900</td>\n",
       "      <td>39778.097656</td>\n",
       "    </tr>\n",
       "    <tr>\n",
       "      <th>107</th>\n",
       "      <td>49999</td>\n",
       "      <td>31500.693359</td>\n",
       "    </tr>\n",
       "    <tr>\n",
       "      <th>196</th>\n",
       "      <td>10500</td>\n",
       "      <td>12644.588867</td>\n",
       "    </tr>\n",
       "    <tr>\n",
       "      <th>33</th>\n",
       "      <td>93000</td>\n",
       "      <td>92065.414062</td>\n",
       "    </tr>\n",
       "    <tr>\n",
       "      <th>634</th>\n",
       "      <td>7200</td>\n",
       "      <td>11085.812500</td>\n",
       "    </tr>\n",
       "  </tbody>\n",
       "</table>\n",
       "</div>"
      ],
      "text/plain": [
       "     Original price($)  Predicted price($)\n",
       "521               5000         6103.686523\n",
       "433              29182        30285.634766\n",
       "101              80300        42988.039062\n",
       "85               41927        41873.128906\n",
       "488              11900        11201.667969\n",
       "632              35234        34218.570312\n",
       "240               9499         9588.585938\n",
       "273              13500         6825.689453\n",
       "461              54000        39810.945312\n",
       "74               76400        45710.148438\n",
       "567              44900        51149.886719\n",
       "197              43000        55955.250000\n",
       "350              19000        17202.679688\n",
       "411              39750        49858.964844\n",
       "471              21995        15185.548828\n",
       "62               17900        39778.097656\n",
       "107              49999        31500.693359\n",
       "196              10500        12644.588867\n",
       "33               93000        92065.414062\n",
       "634               7200        11085.812500"
      ]
     },
     "execution_count": 69,
     "metadata": {},
     "output_type": "execute_result"
    }
   ],
   "source": [
    "original = np.array(y_test)\n",
    "predicted = np.array(xgb.predict(x_test))\n",
    "\n",
    "pred_price = pd.DataFrame({'Original price($)':original,'Predicted price($)':predicted})\n",
    "pred_price.sample(20)"
   ]
  },
  {
   "cell_type": "code",
   "execution_count": 70,
   "id": "8e06ee91",
   "metadata": {
    "scrolled": true
   },
   "outputs": [
    {
     "data": {
      "image/png": "[encoded data removed]",
      "text/plain": [
       "<Figure size 640x480 with 1 Axes>"
      ]
     },
     "metadata": {},
     "output_type": "display_data"
    }
   ],
   "source": [
    "sns.regplot('Original price($)', 'Predicted price($)', data = pred_price)\n",
    "plt.show()"
   ]
  },
  {
   "cell_type": "markdown",
   "id": "f4c23284",
   "metadata": {},
   "source": [
    "- We have obeserved and predicted value near to diagonal line that means it have low variance and data fit properly by using XG BOOST. "
   ]
  }
 ],
 "metadata": {
  "kernelspec": {
   "display_name": "Python 3 (ipykernel)",
   "language": "python",
   "name": "python3"
  },
  "language_info": {
   "codemirror_mode": {
    "name": "ipython",
    "version": 3
   },
   "file_extension": ".py",
   "mimetype": "text/x-python",
   "name": "python",
   "nbconvert_exporter": "python",
   "pygments_lexer": "ipython3",
   "version": "3.9.13"
  }
 },
 "nbformat": 4,
 "nbformat_minor": 5
}
